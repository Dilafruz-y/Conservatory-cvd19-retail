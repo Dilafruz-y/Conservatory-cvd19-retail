{
 "cells": [
  {
   "cell_type": "markdown",
   "metadata": {},
   "source": [
    "#  Conservatory Project-1"
   ]
  },
  {
   "cell_type": "markdown",
   "metadata": {},
   "source": [
    "#  Project Title: Effects of COVID-19 on Retail Sales "
   ]
  },
  {
   "cell_type": "code",
   "execution_count": 1,
   "metadata": {},
   "outputs": [],
   "source": [
    "%matplotlib inline"
   ]
  },
  {
   "cell_type": "markdown",
   "metadata": {},
   "source": [
    "- **Import Dependencies**"
   ]
  },
  {
   "cell_type": "code",
   "execution_count": 2,
   "metadata": {},
   "outputs": [],
   "source": [
    "import pandas as pd\n",
    "import numpy as np\n",
    "import matplotlib.pyplot as plt"
   ]
  },
  {
   "cell_type": "markdown",
   "metadata": {},
   "source": [
    "## **Section 1: COVID-19 Confirmed Cases**"
   ]
  },
  {
   "cell_type": "markdown",
   "metadata": {},
   "source": [
    "- Read data in dataframe: **cov_19**\n",
    "- Inspect first 5 rows of **cov_19**"
   ]
  },
  {
   "cell_type": "code",
   "execution_count": 3,
   "metadata": {
    "scrolled": true
   },
   "outputs": [
    {
     "data": {
      "text/html": [
       "<div>\n",
       "<style scoped>\n",
       "    .dataframe tbody tr th:only-of-type {\n",
       "        vertical-align: middle;\n",
       "    }\n",
       "\n",
       "    .dataframe tbody tr th {\n",
       "        vertical-align: top;\n",
       "    }\n",
       "\n",
       "    .dataframe thead th {\n",
       "        text-align: right;\n",
       "    }\n",
       "</style>\n",
       "<table border=\"1\" class=\"dataframe\">\n",
       "  <thead>\n",
       "    <tr style=\"text-align: right;\">\n",
       "      <th></th>\n",
       "      <th>UID</th>\n",
       "      <th>iso2</th>\n",
       "      <th>iso3</th>\n",
       "      <th>code3</th>\n",
       "      <th>FIPS</th>\n",
       "      <th>Admin2</th>\n",
       "      <th>Province_State</th>\n",
       "      <th>Country_Region</th>\n",
       "      <th>Lat</th>\n",
       "      <th>Long_</th>\n",
       "      <th>...</th>\n",
       "      <th>9/18/20</th>\n",
       "      <th>9/19/20</th>\n",
       "      <th>9/20/20</th>\n",
       "      <th>9/21/20</th>\n",
       "      <th>9/22/20</th>\n",
       "      <th>9/23/20</th>\n",
       "      <th>9/24/20</th>\n",
       "      <th>9/25/20</th>\n",
       "      <th>9/26/20</th>\n",
       "      <th>9/27/20</th>\n",
       "    </tr>\n",
       "  </thead>\n",
       "  <tbody>\n",
       "    <tr>\n",
       "      <th>0</th>\n",
       "      <td>84001001</td>\n",
       "      <td>US</td>\n",
       "      <td>USA</td>\n",
       "      <td>840</td>\n",
       "      <td>1001.0</td>\n",
       "      <td>Autauga</td>\n",
       "      <td>Alabama</td>\n",
       "      <td>US</td>\n",
       "      <td>32.539527</td>\n",
       "      <td>-86.644082</td>\n",
       "      <td>...</td>\n",
       "      <td>1664</td>\n",
       "      <td>1673</td>\n",
       "      <td>1690</td>\n",
       "      <td>1691</td>\n",
       "      <td>1714</td>\n",
       "      <td>1715</td>\n",
       "      <td>1738</td>\n",
       "      <td>1757</td>\n",
       "      <td>1764</td>\n",
       "      <td>1773</td>\n",
       "    </tr>\n",
       "    <tr>\n",
       "      <th>1</th>\n",
       "      <td>84001003</td>\n",
       "      <td>US</td>\n",
       "      <td>USA</td>\n",
       "      <td>840</td>\n",
       "      <td>1003.0</td>\n",
       "      <td>Baldwin</td>\n",
       "      <td>Alabama</td>\n",
       "      <td>US</td>\n",
       "      <td>30.727750</td>\n",
       "      <td>-87.722071</td>\n",
       "      <td>...</td>\n",
       "      <td>5033</td>\n",
       "      <td>5047</td>\n",
       "      <td>5061</td>\n",
       "      <td>5087</td>\n",
       "      <td>5124</td>\n",
       "      <td>5141</td>\n",
       "      <td>5165</td>\n",
       "      <td>5456</td>\n",
       "      <td>5477</td>\n",
       "      <td>5526</td>\n",
       "    </tr>\n",
       "    <tr>\n",
       "      <th>2</th>\n",
       "      <td>84001005</td>\n",
       "      <td>US</td>\n",
       "      <td>USA</td>\n",
       "      <td>840</td>\n",
       "      <td>1005.0</td>\n",
       "      <td>Barbour</td>\n",
       "      <td>Alabama</td>\n",
       "      <td>US</td>\n",
       "      <td>31.868263</td>\n",
       "      <td>-85.387129</td>\n",
       "      <td>...</td>\n",
       "      <td>824</td>\n",
       "      <td>830</td>\n",
       "      <td>835</td>\n",
       "      <td>838</td>\n",
       "      <td>848</td>\n",
       "      <td>851</td>\n",
       "      <td>857</td>\n",
       "      <td>873</td>\n",
       "      <td>882</td>\n",
       "      <td>885</td>\n",
       "    </tr>\n",
       "    <tr>\n",
       "      <th>3</th>\n",
       "      <td>84001007</td>\n",
       "      <td>US</td>\n",
       "      <td>USA</td>\n",
       "      <td>840</td>\n",
       "      <td>1007.0</td>\n",
       "      <td>Bibb</td>\n",
       "      <td>Alabama</td>\n",
       "      <td>US</td>\n",
       "      <td>32.996421</td>\n",
       "      <td>-87.125115</td>\n",
       "      <td>...</td>\n",
       "      <td>619</td>\n",
       "      <td>628</td>\n",
       "      <td>632</td>\n",
       "      <td>636</td>\n",
       "      <td>635</td>\n",
       "      <td>638</td>\n",
       "      <td>642</td>\n",
       "      <td>652</td>\n",
       "      <td>654</td>\n",
       "      <td>656</td>\n",
       "    </tr>\n",
       "    <tr>\n",
       "      <th>4</th>\n",
       "      <td>84001009</td>\n",
       "      <td>US</td>\n",
       "      <td>USA</td>\n",
       "      <td>840</td>\n",
       "      <td>1009.0</td>\n",
       "      <td>Blount</td>\n",
       "      <td>Alabama</td>\n",
       "      <td>US</td>\n",
       "      <td>33.982109</td>\n",
       "      <td>-86.567906</td>\n",
       "      <td>...</td>\n",
       "      <td>1527</td>\n",
       "      <td>1542</td>\n",
       "      <td>1551</td>\n",
       "      <td>1560</td>\n",
       "      <td>1573</td>\n",
       "      <td>1580</td>\n",
       "      <td>1594</td>\n",
       "      <td>1608</td>\n",
       "      <td>1611</td>\n",
       "      <td>1617</td>\n",
       "    </tr>\n",
       "  </tbody>\n",
       "</table>\n",
       "<p>5 rows × 261 columns</p>\n",
       "</div>"
      ],
      "text/plain": [
       "        UID iso2 iso3  code3    FIPS   Admin2 Province_State Country_Region  \\\n",
       "0  84001001   US  USA    840  1001.0  Autauga        Alabama             US   \n",
       "1  84001003   US  USA    840  1003.0  Baldwin        Alabama             US   \n",
       "2  84001005   US  USA    840  1005.0  Barbour        Alabama             US   \n",
       "3  84001007   US  USA    840  1007.0     Bibb        Alabama             US   \n",
       "4  84001009   US  USA    840  1009.0   Blount        Alabama             US   \n",
       "\n",
       "         Lat      Long_  ... 9/18/20  9/19/20  9/20/20  9/21/20  9/22/20  \\\n",
       "0  32.539527 -86.644082  ...    1664     1673     1690     1691     1714   \n",
       "1  30.727750 -87.722071  ...    5033     5047     5061     5087     5124   \n",
       "2  31.868263 -85.387129  ...     824      830      835      838      848   \n",
       "3  32.996421 -87.125115  ...     619      628      632      636      635   \n",
       "4  33.982109 -86.567906  ...    1527     1542     1551     1560     1573   \n",
       "\n",
       "   9/23/20  9/24/20  9/25/20  9/26/20  9/27/20  \n",
       "0     1715     1738     1757     1764     1773  \n",
       "1     5141     5165     5456     5477     5526  \n",
       "2      851      857      873      882      885  \n",
       "3      638      642      652      654      656  \n",
       "4     1580     1594     1608     1611     1617  \n",
       "\n",
       "[5 rows x 261 columns]"
      ]
     },
     "execution_count": 3,
     "metadata": {},
     "output_type": "execute_result"
    }
   ],
   "source": [
    "file = r\"C:\\Users\\lenpk\\OneDrive\\Desktop\\useful_data\\us_confirmed.csv\" \n",
    "cov_19 = pd.read_csv(file)\n",
    "cov_19.head()"
   ]
  },
  {
   "cell_type": "markdown",
   "metadata": {},
   "source": [
    "- Inspect column labels: **cov_19_cols**"
   ]
  },
  {
   "cell_type": "code",
   "execution_count": 4,
   "metadata": {},
   "outputs": [
    {
     "data": {
      "text/plain": [
       "Index(['UID', 'iso2', 'iso3', 'code3', 'FIPS', 'Admin2', 'Province_State',\n",
       "       'Country_Region', 'Lat', 'Long_',\n",
       "       ...\n",
       "       '9/18/20', '9/19/20', '9/20/20', '9/21/20', '9/22/20', '9/23/20',\n",
       "       '9/24/20', '9/25/20', '9/26/20', '9/27/20'],\n",
       "      dtype='object', length=261)"
      ]
     },
     "execution_count": 4,
     "metadata": {},
     "output_type": "execute_result"
    }
   ],
   "source": [
    "cov_19_cols = cov_19.columns\n",
    "cov_19_cols"
   ]
  },
  {
   "cell_type": "markdown",
   "metadata": {},
   "source": [
    "- Inspect data types of **cov_19**"
   ]
  },
  {
   "cell_type": "code",
   "execution_count": 5,
   "metadata": {},
   "outputs": [
    {
     "data": {
      "text/plain": [
       "UID          int64\n",
       "iso2        object\n",
       "iso3        object\n",
       "code3        int64\n",
       "FIPS       float64\n",
       "            ...   \n",
       "9/23/20      int64\n",
       "9/24/20      int64\n",
       "9/25/20      int64\n",
       "9/26/20      int64\n",
       "9/27/20      int64\n",
       "Length: 261, dtype: object"
      ]
     },
     "execution_count": 5,
     "metadata": {},
     "output_type": "execute_result"
    }
   ],
   "source": [
    "cov_19.dtypes"
   ]
  },
  {
   "cell_type": "markdown",
   "metadata": {},
   "source": [
    "- Drop columns not necessary for analysis: **cov_19_dropped**"
   ]
  },
  {
   "cell_type": "code",
   "execution_count": 6,
   "metadata": {},
   "outputs": [
    {
     "data": {
      "text/html": [
       "<div>\n",
       "<style scoped>\n",
       "    .dataframe tbody tr th:only-of-type {\n",
       "        vertical-align: middle;\n",
       "    }\n",
       "\n",
       "    .dataframe tbody tr th {\n",
       "        vertical-align: top;\n",
       "    }\n",
       "\n",
       "    .dataframe thead th {\n",
       "        text-align: right;\n",
       "    }\n",
       "</style>\n",
       "<table border=\"1\" class=\"dataframe\">\n",
       "  <thead>\n",
       "    <tr style=\"text-align: right;\">\n",
       "      <th></th>\n",
       "      <th>Province_State</th>\n",
       "      <th>1/22/20</th>\n",
       "      <th>1/23/20</th>\n",
       "      <th>1/24/20</th>\n",
       "      <th>1/25/20</th>\n",
       "      <th>1/26/20</th>\n",
       "      <th>1/27/20</th>\n",
       "      <th>1/28/20</th>\n",
       "      <th>1/29/20</th>\n",
       "      <th>1/30/20</th>\n",
       "      <th>...</th>\n",
       "      <th>9/18/20</th>\n",
       "      <th>9/19/20</th>\n",
       "      <th>9/20/20</th>\n",
       "      <th>9/21/20</th>\n",
       "      <th>9/22/20</th>\n",
       "      <th>9/23/20</th>\n",
       "      <th>9/24/20</th>\n",
       "      <th>9/25/20</th>\n",
       "      <th>9/26/20</th>\n",
       "      <th>9/27/20</th>\n",
       "    </tr>\n",
       "  </thead>\n",
       "  <tbody>\n",
       "    <tr>\n",
       "      <th>0</th>\n",
       "      <td>Alabama</td>\n",
       "      <td>0</td>\n",
       "      <td>0</td>\n",
       "      <td>0</td>\n",
       "      <td>0</td>\n",
       "      <td>0</td>\n",
       "      <td>0</td>\n",
       "      <td>0</td>\n",
       "      <td>0</td>\n",
       "      <td>0</td>\n",
       "      <td>...</td>\n",
       "      <td>1664</td>\n",
       "      <td>1673</td>\n",
       "      <td>1690</td>\n",
       "      <td>1691</td>\n",
       "      <td>1714</td>\n",
       "      <td>1715</td>\n",
       "      <td>1738</td>\n",
       "      <td>1757</td>\n",
       "      <td>1764</td>\n",
       "      <td>1773</td>\n",
       "    </tr>\n",
       "    <tr>\n",
       "      <th>1</th>\n",
       "      <td>Alabama</td>\n",
       "      <td>0</td>\n",
       "      <td>0</td>\n",
       "      <td>0</td>\n",
       "      <td>0</td>\n",
       "      <td>0</td>\n",
       "      <td>0</td>\n",
       "      <td>0</td>\n",
       "      <td>0</td>\n",
       "      <td>0</td>\n",
       "      <td>...</td>\n",
       "      <td>5033</td>\n",
       "      <td>5047</td>\n",
       "      <td>5061</td>\n",
       "      <td>5087</td>\n",
       "      <td>5124</td>\n",
       "      <td>5141</td>\n",
       "      <td>5165</td>\n",
       "      <td>5456</td>\n",
       "      <td>5477</td>\n",
       "      <td>5526</td>\n",
       "    </tr>\n",
       "    <tr>\n",
       "      <th>2</th>\n",
       "      <td>Alabama</td>\n",
       "      <td>0</td>\n",
       "      <td>0</td>\n",
       "      <td>0</td>\n",
       "      <td>0</td>\n",
       "      <td>0</td>\n",
       "      <td>0</td>\n",
       "      <td>0</td>\n",
       "      <td>0</td>\n",
       "      <td>0</td>\n",
       "      <td>...</td>\n",
       "      <td>824</td>\n",
       "      <td>830</td>\n",
       "      <td>835</td>\n",
       "      <td>838</td>\n",
       "      <td>848</td>\n",
       "      <td>851</td>\n",
       "      <td>857</td>\n",
       "      <td>873</td>\n",
       "      <td>882</td>\n",
       "      <td>885</td>\n",
       "    </tr>\n",
       "    <tr>\n",
       "      <th>3</th>\n",
       "      <td>Alabama</td>\n",
       "      <td>0</td>\n",
       "      <td>0</td>\n",
       "      <td>0</td>\n",
       "      <td>0</td>\n",
       "      <td>0</td>\n",
       "      <td>0</td>\n",
       "      <td>0</td>\n",
       "      <td>0</td>\n",
       "      <td>0</td>\n",
       "      <td>...</td>\n",
       "      <td>619</td>\n",
       "      <td>628</td>\n",
       "      <td>632</td>\n",
       "      <td>636</td>\n",
       "      <td>635</td>\n",
       "      <td>638</td>\n",
       "      <td>642</td>\n",
       "      <td>652</td>\n",
       "      <td>654</td>\n",
       "      <td>656</td>\n",
       "    </tr>\n",
       "    <tr>\n",
       "      <th>4</th>\n",
       "      <td>Alabama</td>\n",
       "      <td>0</td>\n",
       "      <td>0</td>\n",
       "      <td>0</td>\n",
       "      <td>0</td>\n",
       "      <td>0</td>\n",
       "      <td>0</td>\n",
       "      <td>0</td>\n",
       "      <td>0</td>\n",
       "      <td>0</td>\n",
       "      <td>...</td>\n",
       "      <td>1527</td>\n",
       "      <td>1542</td>\n",
       "      <td>1551</td>\n",
       "      <td>1560</td>\n",
       "      <td>1573</td>\n",
       "      <td>1580</td>\n",
       "      <td>1594</td>\n",
       "      <td>1608</td>\n",
       "      <td>1611</td>\n",
       "      <td>1617</td>\n",
       "    </tr>\n",
       "  </tbody>\n",
       "</table>\n",
       "<p>5 rows × 251 columns</p>\n",
       "</div>"
      ],
      "text/plain": [
       "  Province_State  1/22/20  1/23/20  1/24/20  1/25/20  1/26/20  1/27/20  \\\n",
       "0        Alabama        0        0        0        0        0        0   \n",
       "1        Alabama        0        0        0        0        0        0   \n",
       "2        Alabama        0        0        0        0        0        0   \n",
       "3        Alabama        0        0        0        0        0        0   \n",
       "4        Alabama        0        0        0        0        0        0   \n",
       "\n",
       "   1/28/20  1/29/20  1/30/20  ...  9/18/20  9/19/20  9/20/20  9/21/20  \\\n",
       "0        0        0        0  ...     1664     1673     1690     1691   \n",
       "1        0        0        0  ...     5033     5047     5061     5087   \n",
       "2        0        0        0  ...      824      830      835      838   \n",
       "3        0        0        0  ...      619      628      632      636   \n",
       "4        0        0        0  ...     1527     1542     1551     1560   \n",
       "\n",
       "   9/22/20  9/23/20  9/24/20  9/25/20  9/26/20  9/27/20  \n",
       "0     1714     1715     1738     1757     1764     1773  \n",
       "1     5124     5141     5165     5456     5477     5526  \n",
       "2      848      851      857      873      882      885  \n",
       "3      635      638      642      652      654      656  \n",
       "4     1573     1580     1594     1608     1611     1617  \n",
       "\n",
       "[5 rows x 251 columns]"
      ]
     },
     "execution_count": 6,
     "metadata": {},
     "output_type": "execute_result"
    }
   ],
   "source": [
    "cov_19_dropped = cov_19.drop(['UID', 'iso2', 'iso3', 'code3', 'FIPS', 'Admin2', 'Country_Region', 'Lat', 'Long_',\\\n",
    "                              'Combined_Key'], axis = 1)\n",
    "cov_19_dropped.head()"
   ]
  },
  {
   "cell_type": "markdown",
   "metadata": {},
   "source": [
    "- Group by *Province_State*: **state_cov_group**\n",
    "- Sum values in rows (axis=0): **state_cov_sum**"
   ]
  },
  {
   "cell_type": "code",
   "execution_count": 7,
   "metadata": {},
   "outputs": [
    {
     "data": {
      "text/html": [
       "<div>\n",
       "<style scoped>\n",
       "    .dataframe tbody tr th:only-of-type {\n",
       "        vertical-align: middle;\n",
       "    }\n",
       "\n",
       "    .dataframe tbody tr th {\n",
       "        vertical-align: top;\n",
       "    }\n",
       "\n",
       "    .dataframe thead th {\n",
       "        text-align: right;\n",
       "    }\n",
       "</style>\n",
       "<table border=\"1\" class=\"dataframe\">\n",
       "  <thead>\n",
       "    <tr style=\"text-align: right;\">\n",
       "      <th></th>\n",
       "      <th>1/22/20</th>\n",
       "      <th>1/23/20</th>\n",
       "      <th>1/24/20</th>\n",
       "      <th>1/25/20</th>\n",
       "      <th>1/26/20</th>\n",
       "      <th>1/27/20</th>\n",
       "      <th>1/28/20</th>\n",
       "      <th>1/29/20</th>\n",
       "      <th>1/30/20</th>\n",
       "      <th>1/31/20</th>\n",
       "      <th>...</th>\n",
       "      <th>9/18/20</th>\n",
       "      <th>9/19/20</th>\n",
       "      <th>9/20/20</th>\n",
       "      <th>9/21/20</th>\n",
       "      <th>9/22/20</th>\n",
       "      <th>9/23/20</th>\n",
       "      <th>9/24/20</th>\n",
       "      <th>9/25/20</th>\n",
       "      <th>9/26/20</th>\n",
       "      <th>9/27/20</th>\n",
       "    </tr>\n",
       "    <tr>\n",
       "      <th>Province_State</th>\n",
       "      <th></th>\n",
       "      <th></th>\n",
       "      <th></th>\n",
       "      <th></th>\n",
       "      <th></th>\n",
       "      <th></th>\n",
       "      <th></th>\n",
       "      <th></th>\n",
       "      <th></th>\n",
       "      <th></th>\n",
       "      <th></th>\n",
       "      <th></th>\n",
       "      <th></th>\n",
       "      <th></th>\n",
       "      <th></th>\n",
       "      <th></th>\n",
       "      <th></th>\n",
       "      <th></th>\n",
       "      <th></th>\n",
       "      <th></th>\n",
       "      <th></th>\n",
       "    </tr>\n",
       "  </thead>\n",
       "  <tbody>\n",
       "    <tr>\n",
       "      <th>Alabama</th>\n",
       "      <td>0</td>\n",
       "      <td>0</td>\n",
       "      <td>0</td>\n",
       "      <td>0</td>\n",
       "      <td>0</td>\n",
       "      <td>0</td>\n",
       "      <td>0</td>\n",
       "      <td>0</td>\n",
       "      <td>0</td>\n",
       "      <td>0</td>\n",
       "      <td>...</td>\n",
       "      <td>142863</td>\n",
       "      <td>144164</td>\n",
       "      <td>144962</td>\n",
       "      <td>145780</td>\n",
       "      <td>146584</td>\n",
       "      <td>147153</td>\n",
       "      <td>148206</td>\n",
       "      <td>150658</td>\n",
       "      <td>151591</td>\n",
       "      <td>152321</td>\n",
       "    </tr>\n",
       "    <tr>\n",
       "      <th>Alaska</th>\n",
       "      <td>0</td>\n",
       "      <td>0</td>\n",
       "      <td>0</td>\n",
       "      <td>0</td>\n",
       "      <td>0</td>\n",
       "      <td>0</td>\n",
       "      <td>0</td>\n",
       "      <td>0</td>\n",
       "      <td>0</td>\n",
       "      <td>0</td>\n",
       "      <td>...</td>\n",
       "      <td>6644</td>\n",
       "      <td>6729</td>\n",
       "      <td>6822</td>\n",
       "      <td>6892</td>\n",
       "      <td>6936</td>\n",
       "      <td>7004</td>\n",
       "      <td>7132</td>\n",
       "      <td>7254</td>\n",
       "      <td>7367</td>\n",
       "      <td>7481</td>\n",
       "    </tr>\n",
       "    <tr>\n",
       "      <th>American Samoa</th>\n",
       "      <td>0</td>\n",
       "      <td>0</td>\n",
       "      <td>0</td>\n",
       "      <td>0</td>\n",
       "      <td>0</td>\n",
       "      <td>0</td>\n",
       "      <td>0</td>\n",
       "      <td>0</td>\n",
       "      <td>0</td>\n",
       "      <td>0</td>\n",
       "      <td>...</td>\n",
       "      <td>0</td>\n",
       "      <td>0</td>\n",
       "      <td>0</td>\n",
       "      <td>0</td>\n",
       "      <td>0</td>\n",
       "      <td>0</td>\n",
       "      <td>0</td>\n",
       "      <td>0</td>\n",
       "      <td>0</td>\n",
       "      <td>0</td>\n",
       "    </tr>\n",
       "    <tr>\n",
       "      <th>Arizona</th>\n",
       "      <td>0</td>\n",
       "      <td>0</td>\n",
       "      <td>0</td>\n",
       "      <td>0</td>\n",
       "      <td>1</td>\n",
       "      <td>1</td>\n",
       "      <td>1</td>\n",
       "      <td>1</td>\n",
       "      <td>1</td>\n",
       "      <td>1</td>\n",
       "      <td>...</td>\n",
       "      <td>212942</td>\n",
       "      <td>213551</td>\n",
       "      <td>214021</td>\n",
       "      <td>214251</td>\n",
       "      <td>214846</td>\n",
       "      <td>215284</td>\n",
       "      <td>215852</td>\n",
       "      <td>216367</td>\n",
       "      <td>216826</td>\n",
       "      <td>217237</td>\n",
       "    </tr>\n",
       "    <tr>\n",
       "      <th>Arkansas</th>\n",
       "      <td>0</td>\n",
       "      <td>0</td>\n",
       "      <td>0</td>\n",
       "      <td>0</td>\n",
       "      <td>0</td>\n",
       "      <td>0</td>\n",
       "      <td>0</td>\n",
       "      <td>0</td>\n",
       "      <td>0</td>\n",
       "      <td>0</td>\n",
       "      <td>...</td>\n",
       "      <td>74082</td>\n",
       "      <td>75160</td>\n",
       "      <td>75723</td>\n",
       "      <td>76364</td>\n",
       "      <td>76981</td>\n",
       "      <td>77963</td>\n",
       "      <td>79049</td>\n",
       "      <td>79946</td>\n",
       "      <td>80755</td>\n",
       "      <td>81242</td>\n",
       "    </tr>\n",
       "  </tbody>\n",
       "</table>\n",
       "<p>5 rows × 250 columns</p>\n",
       "</div>"
      ],
      "text/plain": [
       "                1/22/20  1/23/20  1/24/20  1/25/20  1/26/20  1/27/20  1/28/20  \\\n",
       "Province_State                                                                  \n",
       "Alabama               0        0        0        0        0        0        0   \n",
       "Alaska                0        0        0        0        0        0        0   \n",
       "American Samoa        0        0        0        0        0        0        0   \n",
       "Arizona               0        0        0        0        1        1        1   \n",
       "Arkansas              0        0        0        0        0        0        0   \n",
       "\n",
       "                1/29/20  1/30/20  1/31/20  ...  9/18/20  9/19/20  9/20/20  \\\n",
       "Province_State                             ...                              \n",
       "Alabama               0        0        0  ...   142863   144164   144962   \n",
       "Alaska                0        0        0  ...     6644     6729     6822   \n",
       "American Samoa        0        0        0  ...        0        0        0   \n",
       "Arizona               1        1        1  ...   212942   213551   214021   \n",
       "Arkansas              0        0        0  ...    74082    75160    75723   \n",
       "\n",
       "                9/21/20  9/22/20  9/23/20  9/24/20  9/25/20  9/26/20  9/27/20  \n",
       "Province_State                                                                 \n",
       "Alabama          145780   146584   147153   148206   150658   151591   152321  \n",
       "Alaska             6892     6936     7004     7132     7254     7367     7481  \n",
       "American Samoa        0        0        0        0        0        0        0  \n",
       "Arizona          214251   214846   215284   215852   216367   216826   217237  \n",
       "Arkansas          76364    76981    77963    79049    79946    80755    81242  \n",
       "\n",
       "[5 rows x 250 columns]"
      ]
     },
     "execution_count": 7,
     "metadata": {},
     "output_type": "execute_result"
    }
   ],
   "source": [
    "state_cov_group = cov_19_dropped.groupby('Province_State')\n",
    "state_cov_sum = state_cov_group.sum()\n",
    "state_cov_sum.head()"
   ]
  },
  {
   "cell_type": "markdown",
   "metadata": {},
   "source": [
    "- Extract total new cases by month\n",
    "- Create **state_cov_cum** from confirmed cases by month"
   ]
  },
  {
   "cell_type": "code",
   "execution_count": 8,
   "metadata": {},
   "outputs": [
    {
     "data": {
      "text/html": [
       "<div>\n",
       "<style scoped>\n",
       "    .dataframe tbody tr th:only-of-type {\n",
       "        vertical-align: middle;\n",
       "    }\n",
       "\n",
       "    .dataframe tbody tr th {\n",
       "        vertical-align: top;\n",
       "    }\n",
       "\n",
       "    .dataframe thead th {\n",
       "        text-align: right;\n",
       "    }\n",
       "</style>\n",
       "<table border=\"1\" class=\"dataframe\">\n",
       "  <thead>\n",
       "    <tr style=\"text-align: right;\">\n",
       "      <th></th>\n",
       "      <th>Jan</th>\n",
       "      <th>Feb</th>\n",
       "      <th>Mar</th>\n",
       "      <th>Apr</th>\n",
       "      <th>May</th>\n",
       "      <th>Jun</th>\n",
       "      <th>Jul</th>\n",
       "      <th>Aug</th>\n",
       "    </tr>\n",
       "    <tr>\n",
       "      <th>Province_State</th>\n",
       "      <th></th>\n",
       "      <th></th>\n",
       "      <th></th>\n",
       "      <th></th>\n",
       "      <th></th>\n",
       "      <th></th>\n",
       "      <th></th>\n",
       "      <th></th>\n",
       "    </tr>\n",
       "  </thead>\n",
       "  <tbody>\n",
       "    <tr>\n",
       "      <th>Alabama</th>\n",
       "      <td>0</td>\n",
       "      <td>0</td>\n",
       "      <td>987</td>\n",
       "      <td>7088</td>\n",
       "      <td>17952</td>\n",
       "      <td>38045</td>\n",
       "      <td>87723</td>\n",
       "      <td>126058</td>\n",
       "    </tr>\n",
       "    <tr>\n",
       "      <th>Alaska</th>\n",
       "      <td>0</td>\n",
       "      <td>0</td>\n",
       "      <td>119</td>\n",
       "      <td>355</td>\n",
       "      <td>459</td>\n",
       "      <td>937</td>\n",
       "      <td>2990</td>\n",
       "      <td>5263</td>\n",
       "    </tr>\n",
       "    <tr>\n",
       "      <th>American Samoa</th>\n",
       "      <td>0</td>\n",
       "      <td>0</td>\n",
       "      <td>0</td>\n",
       "      <td>0</td>\n",
       "      <td>0</td>\n",
       "      <td>0</td>\n",
       "      <td>0</td>\n",
       "      <td>0</td>\n",
       "    </tr>\n",
       "    <tr>\n",
       "      <th>Arizona</th>\n",
       "      <td>1</td>\n",
       "      <td>1</td>\n",
       "      <td>1289</td>\n",
       "      <td>7655</td>\n",
       "      <td>19936</td>\n",
       "      <td>79228</td>\n",
       "      <td>174010</td>\n",
       "      <td>201835</td>\n",
       "    </tr>\n",
       "    <tr>\n",
       "      <th>Arkansas</th>\n",
       "      <td>0</td>\n",
       "      <td>0</td>\n",
       "      <td>523</td>\n",
       "      <td>3281</td>\n",
       "      <td>7253</td>\n",
       "      <td>20777</td>\n",
       "      <td>42511</td>\n",
       "      <td>61224</td>\n",
       "    </tr>\n",
       "  </tbody>\n",
       "</table>\n",
       "</div>"
      ],
      "text/plain": [
       "                Jan  Feb   Mar   Apr    May    Jun     Jul     Aug\n",
       "Province_State                                                    \n",
       "Alabama           0    0   987  7088  17952  38045   87723  126058\n",
       "Alaska            0    0   119   355    459    937    2990    5263\n",
       "American Samoa    0    0     0     0      0      0       0       0\n",
       "Arizona           1    1  1289  7655  19936  79228  174010  201835\n",
       "Arkansas          0    0   523  3281   7253  20777   42511   61224"
      ]
     },
     "execution_count": 8,
     "metadata": {},
     "output_type": "execute_result"
    }
   ],
   "source": [
    "# Columns to add to 'state_cov_sum' = [jan, feb, mar, apr, may, jun, jul, aug]\n",
    "jan = state_cov_sum.iloc[:, 9:10]\n",
    "\n",
    "                                          feb = state_cov_sum.iloc[:, 38:39]\n",
    "\n",
    "mar = state_cov_sum.iloc[:, 69:70]\n",
    "\n",
    "apr = state_cov_sum.iloc[:, 99:100]\n",
    "\n",
    "may = state_cov_sum.iloc[:, 130:131]\n",
    "\n",
    "jun = state_cov_sum.iloc[:, 160:161]\n",
    "\n",
    "jul = state_cov_sum.iloc[:, 191:192]\n",
    "aug = state_cov_sum.iloc[:, 222:223]\n",
    "\n",
    "# Add cumulative cases\n",
    "\n",
    "state_cov_sum['Jan'] = jan\n",
    "state_cov_sum['Feb'] = feb\n",
    "state_cov_sum['Mar'] = mar\n",
    "state_cov_sum['Apr'] = apr\n",
    "state_cov_sum['May'] = may\n",
    "state_cov_sum['Jun'] = jun\n",
    "state_cov_sum['Jul'] = jul\n",
    "state_cov_sum['Aug'] = aug\n",
    "cum_months = ['Jan', 'Feb', 'Mar', 'Apr', 'May', 'Jun', 'Jul', 'Aug']\n",
    "\n",
    "state_cov_cum = state_cov_sum[cum_months]\n",
    "state_cov_cum.head()"
   ]
  },
  {
   "cell_type": "markdown",
   "metadata": {},
   "source": [
    "- Get confirmed cases for each month\n",
    "- Create **state_ind** from confirmed cases fr each month\n",
    "- Rename columns"
   ]
  },
  {
   "cell_type": "code",
   "execution_count": 9,
   "metadata": {},
   "outputs": [
    {
     "name": "stderr",
     "output_type": "stream",
     "text": [
      "C:\\Users\\lenpk\\anaconda3\\envs\\PythonData\\lib\\site-packages\\pandas\\core\\frame.py:4133: SettingWithCopyWarning: \n",
      "A value is trying to be set on a copy of a slice from a DataFrame\n",
      "\n",
      "See the caveats in the documentation: https://pandas.pydata.org/pandas-docs/stable/user_guide/indexing.html#returning-a-view-versus-a-copy\n",
      "  errors=errors,\n"
     ]
    }
   ],
   "source": [
    "jan_new = state_cov_sum['Jan']\n",
    "feb_new = state_cov_sum['Feb'] - state_cov_sum['Jan']\n",
    "mar_new = state_cov_sum['Mar'] - state_cov_sum['Feb']\n",
    "apr_new = state_cov_sum['Apr'] - state_cov_sum['Mar']\n",
    "may_new = state_cov_sum['May'] - state_cov_sum['Apr']\n",
    "jun_new = state_cov_sum['Jun'] - state_cov_sum['May']\n",
    "jul_new = state_cov_sum['Jul'] - state_cov_sum['Jun']\n",
    "aug_new = state_cov_sum['Aug'] - state_cov_sum['Jul']\n",
    "\n",
    "state_cov_sum['Jan_New'] = jan_new\n",
    "state_cov_sum['Feb_New'] = feb_new\n",
    "state_cov_sum['Mar_New'] = mar_new\n",
    "state_cov_sum['Apr_New'] = apr_new\n",
    "state_cov_sum['May_New'] = may_new\n",
    "state_cov_sum['Jun_New'] = jun_new\n",
    "state_cov_sum['Jul_New'] = jul_new\n",
    "state_cov_sum['Aug_New'] = aug_new\n",
    "new_ind_cases = ['Jan_New', 'Feb_New', 'Mar_New', 'Apr_New', 'May_New', 'Jun_New', 'Jul_New', 'Aug_New']\n",
    "state_ind = state_cov_sum[new_ind_cases]\n",
    "state_ind.head()\n",
    "state_ind.rename(columns={'Jan_New':'Jan', 'Feb_New':'Feb', 'Mar_New':'Mar', 'Apr_New':'Apr', 'May_New':'May',\\\n",
    "                         'Jun_New':'Jun', 'Jul_New':'Jul', 'Aug_New':'Aug'}, inplace=True)"
   ]
  },
  {
   "cell_type": "code",
   "execution_count": 10,
   "metadata": {},
   "outputs": [
    {
     "data": {
      "text/html": [
       "<div>\n",
       "<style scoped>\n",
       "    .dataframe tbody tr th:only-of-type {\n",
       "        vertical-align: middle;\n",
       "    }\n",
       "\n",
       "    .dataframe tbody tr th {\n",
       "        vertical-align: top;\n",
       "    }\n",
       "\n",
       "    .dataframe thead th {\n",
       "        text-align: right;\n",
       "    }\n",
       "</style>\n",
       "<table border=\"1\" class=\"dataframe\">\n",
       "  <thead>\n",
       "    <tr style=\"text-align: right;\">\n",
       "      <th></th>\n",
       "      <th>Jan</th>\n",
       "      <th>Feb</th>\n",
       "      <th>Mar</th>\n",
       "      <th>Apr</th>\n",
       "      <th>May</th>\n",
       "      <th>Jun</th>\n",
       "      <th>Jul</th>\n",
       "      <th>Aug</th>\n",
       "    </tr>\n",
       "    <tr>\n",
       "      <th>Province_State</th>\n",
       "      <th></th>\n",
       "      <th></th>\n",
       "      <th></th>\n",
       "      <th></th>\n",
       "      <th></th>\n",
       "      <th></th>\n",
       "      <th></th>\n",
       "      <th></th>\n",
       "    </tr>\n",
       "  </thead>\n",
       "  <tbody>\n",
       "    <tr>\n",
       "      <th>Alabama</th>\n",
       "      <td>0</td>\n",
       "      <td>0</td>\n",
       "      <td>987</td>\n",
       "      <td>6101</td>\n",
       "      <td>10864</td>\n",
       "      <td>20093</td>\n",
       "      <td>49678</td>\n",
       "      <td>38335</td>\n",
       "    </tr>\n",
       "    <tr>\n",
       "      <th>Alaska</th>\n",
       "      <td>0</td>\n",
       "      <td>0</td>\n",
       "      <td>119</td>\n",
       "      <td>236</td>\n",
       "      <td>104</td>\n",
       "      <td>478</td>\n",
       "      <td>2053</td>\n",
       "      <td>2273</td>\n",
       "    </tr>\n",
       "    <tr>\n",
       "      <th>American Samoa</th>\n",
       "      <td>0</td>\n",
       "      <td>0</td>\n",
       "      <td>0</td>\n",
       "      <td>0</td>\n",
       "      <td>0</td>\n",
       "      <td>0</td>\n",
       "      <td>0</td>\n",
       "      <td>0</td>\n",
       "    </tr>\n",
       "    <tr>\n",
       "      <th>Arizona</th>\n",
       "      <td>1</td>\n",
       "      <td>0</td>\n",
       "      <td>1288</td>\n",
       "      <td>6366</td>\n",
       "      <td>12281</td>\n",
       "      <td>59292</td>\n",
       "      <td>94782</td>\n",
       "      <td>27825</td>\n",
       "    </tr>\n",
       "    <tr>\n",
       "      <th>Arkansas</th>\n",
       "      <td>0</td>\n",
       "      <td>0</td>\n",
       "      <td>523</td>\n",
       "      <td>2758</td>\n",
       "      <td>3972</td>\n",
       "      <td>13524</td>\n",
       "      <td>21734</td>\n",
       "      <td>18713</td>\n",
       "    </tr>\n",
       "  </tbody>\n",
       "</table>\n",
       "</div>"
      ],
      "text/plain": [
       "                Jan  Feb   Mar   Apr    May    Jun    Jul    Aug\n",
       "Province_State                                                  \n",
       "Alabama           0    0   987  6101  10864  20093  49678  38335\n",
       "Alaska            0    0   119   236    104    478   2053   2273\n",
       "American Samoa    0    0     0     0      0      0      0      0\n",
       "Arizona           1    0  1288  6366  12281  59292  94782  27825\n",
       "Arkansas          0    0   523  2758   3972  13524  21734  18713"
      ]
     },
     "execution_count": 10,
     "metadata": {},
     "output_type": "execute_result"
    }
   ],
   "source": [
    "state_ind.head()"
   ]
  },
  {
   "cell_type": "markdown",
   "metadata": {},
   "source": [
    "- Create line plot of COVID-19 total cases by month: **Monthly US Confirmed Cases**"
   ]
  },
  {
   "cell_type": "code",
   "execution_count": 11,
   "metadata": {},
   "outputs": [
    {
     "data": {
      "image/png": "[encoded data removed]",
      "text/plain": [
       "<Figure size 1080x360 with 1 Axes>"
      ]
     },
     "metadata": {
      "needs_background": "light"
     },
     "output_type": "display_data"
    },
    {
     "data": {
      "text/plain": [
       "<Figure size 1080x360 with 0 Axes>"
      ]
     },
     "metadata": {},
     "output_type": "display_data"
    }
   ],
   "source": [
    "plt.rcParams['figure.figsize'] = [15, 5]\n",
    "state = state_ind.sum()\n",
    "# mnth_labels = ['Jan', 'Feb', 'Mar', 'Apr', 'May', 'Jun', 'Jul', 'Aug']\n",
    "state.plot(color='green')\n",
    "plt.title('Monthly US Confirmed Cases')\n",
    "plt.ylabel('Confirmed Cases')\n",
    "plt.xlabel('Months')\n",
    "\n",
    "\n",
    "plt.grid()\n",
    "plt.show()\n",
    "plt.savefig('us_confirmed.png')"
   ]
  },
  {
   "cell_type": "markdown",
   "metadata": {},
   "source": [
    "## Section 2: **Retail Categories Sales 2020-Jan to 2020-Aug**"
   ]
  },
  {
   "cell_type": "markdown",
   "metadata": {},
   "source": [
    "- Load excel file: **retail_biz**"
   ]
  },
  {
   "cell_type": "code",
   "execution_count": 12,
   "metadata": {},
   "outputs": [],
   "source": [
    "file_path = r\"C:\\Users\\lenpk\\OneDrive\\Desktop\\useful_data\\retail_20_Tabulated.xls\"\n",
    "retail_biz = pd.read_excel(file_path, headers=None)\n",
    "retail_biz.columns = ['Kind of Business', 'Amount', 'Pct Change 2019']"
   ]
  },
  {
   "cell_type": "code",
   "execution_count": 13,
   "metadata": {},
   "outputs": [
    {
     "data": {
      "text/html": [
       "<div>\n",
       "<style scoped>\n",
       "    .dataframe tbody tr th:only-of-type {\n",
       "        vertical-align: middle;\n",
       "    }\n",
       "\n",
       "    .dataframe tbody tr th {\n",
       "        vertical-align: top;\n",
       "    }\n",
       "\n",
       "    .dataframe thead th {\n",
       "        text-align: right;\n",
       "    }\n",
       "</style>\n",
       "<table border=\"1\" class=\"dataframe\">\n",
       "  <thead>\n",
       "    <tr style=\"text-align: right;\">\n",
       "      <th></th>\n",
       "      <th>Kind of Business</th>\n",
       "      <th>Amount</th>\n",
       "      <th>Pct Change 2019</th>\n",
       "    </tr>\n",
       "  </thead>\n",
       "  <tbody>\n",
       "    <tr>\n",
       "      <th>0</th>\n",
       "      <td>Motor vehicle &amp; parts dealers</td>\n",
       "      <td>801017</td>\n",
       "      <td>-3.4</td>\n",
       "    </tr>\n",
       "    <tr>\n",
       "      <th>1</th>\n",
       "      <td>Furniture &amp; home furn. stores</td>\n",
       "      <td>67610</td>\n",
       "      <td>-11.3</td>\n",
       "    </tr>\n",
       "    <tr>\n",
       "      <th>2</th>\n",
       "      <td>Electronics &amp; appliance stores</td>\n",
       "      <td>49890</td>\n",
       "      <td>-16.8</td>\n",
       "    </tr>\n",
       "    <tr>\n",
       "      <th>3</th>\n",
       "      <td>Building material &amp; garden eq. &amp;  supplies de...</td>\n",
       "      <td>289219</td>\n",
       "      <td>11.4</td>\n",
       "    </tr>\n",
       "    <tr>\n",
       "      <th>4</th>\n",
       "      <td>Food &amp; beverage stores</td>\n",
       "      <td>566563</td>\n",
       "      <td>12.2</td>\n",
       "    </tr>\n",
       "    <tr>\n",
       "      <th>5</th>\n",
       "      <td>Health &amp; personal care stores</td>\n",
       "      <td>236769</td>\n",
       "      <td>0.1</td>\n",
       "    </tr>\n",
       "    <tr>\n",
       "      <th>6</th>\n",
       "      <td>Gasoline stations</td>\n",
       "      <td>277960</td>\n",
       "      <td>-16.9</td>\n",
       "    </tr>\n",
       "    <tr>\n",
       "      <th>7</th>\n",
       "      <td>Clothing &amp; clothing accessories stores</td>\n",
       "      <td>108616</td>\n",
       "      <td>-34.9</td>\n",
       "    </tr>\n",
       "    <tr>\n",
       "      <th>8</th>\n",
       "      <td>Sporting goods, hobby, musical instrument, &amp; b...</td>\n",
       "      <td>50087</td>\n",
       "      <td>-0.7</td>\n",
       "    </tr>\n",
       "    <tr>\n",
       "      <th>9</th>\n",
       "      <td>General merchandise stores</td>\n",
       "      <td>467022</td>\n",
       "      <td>2.2</td>\n",
       "    </tr>\n",
       "    <tr>\n",
       "      <th>10</th>\n",
       "      <td>Miscellaneous store retailers</td>\n",
       "      <td>83094</td>\n",
       "      <td>-4.5</td>\n",
       "    </tr>\n",
       "    <tr>\n",
       "      <th>11</th>\n",
       "      <td>Nonstore retailers</td>\n",
       "      <td>593921</td>\n",
       "      <td>19.6</td>\n",
       "    </tr>\n",
       "    <tr>\n",
       "      <th>12</th>\n",
       "      <td>Food services &amp; drinking places</td>\n",
       "      <td>403894</td>\n",
       "      <td>-20.9</td>\n",
       "    </tr>\n",
       "  </tbody>\n",
       "</table>\n",
       "</div>"
      ],
      "text/plain": [
       "                                     Kind of Business  Amount  Pct Change 2019\n",
       "0                      Motor vehicle & parts dealers   801017             -3.4\n",
       "1                      Furniture & home furn. stores    67610            -11.3\n",
       "2                     Electronics & appliance stores    49890            -16.8\n",
       "3    Building material & garden eq. &  supplies de...  289219             11.4\n",
       "4                              Food & beverage stores  566563             12.2\n",
       "5                      Health & personal care stores   236769              0.1\n",
       "6                                   Gasoline stations  277960            -16.9\n",
       "7             Clothing & clothing accessories stores   108616            -34.9\n",
       "8   Sporting goods, hobby, musical instrument, & b...   50087             -0.7\n",
       "9                          General merchandise stores  467022              2.2\n",
       "10                     Miscellaneous store retailers    83094             -4.5\n",
       "11                                Nonstore retailers   593921             19.6\n",
       "12                   Food services & drinking places   403894            -20.9"
      ]
     },
     "execution_count": 13,
     "metadata": {},
     "output_type": "execute_result"
    }
   ],
   "source": [
    "retail_biz"
   ]
  },
  {
   "cell_type": "markdown",
   "metadata": {},
   "source": [
    "- Create new labels: **biz_labels**"
   ]
  },
  {
   "cell_type": "code",
   "execution_count": 14,
   "metadata": {},
   "outputs": [],
   "source": [
    "biz_labels = ['Motor Vehicle & Parts', 'Furniture', 'Appliances', 'Building & Supplies', 'Food & Beverage Stores',\\\n",
    "              'Health & Personal Care', 'Gas Stations', 'Clothing & Accessories', 'Sports & Leisure',\\\n",
    "              'General Merchandise', 'Miscellaneous Stores', 'Nonstore Retailers', 'Food Services & Drinking']\n",
    "biz_labels = [biz for biz in biz_labels]"
   ]
  },
  {
   "cell_type": "markdown",
   "metadata": {},
   "source": [
    "- Add values of **biz_labels** in new column: **Category**"
   ]
  },
  {
   "cell_type": "code",
   "execution_count": 15,
   "metadata": {},
   "outputs": [],
   "source": [
    "retail_biz['Category'] = biz_labels\n"
   ]
  },
  {
   "cell_type": "markdown",
   "metadata": {},
   "source": [
    "- Extract columns for analysis: **retail_cat**"
   ]
  },
  {
   "cell_type": "code",
   "execution_count": 16,
   "metadata": {},
   "outputs": [
    {
     "data": {
      "text/html": [
       "<div>\n",
       "<style scoped>\n",
       "    .dataframe tbody tr th:only-of-type {\n",
       "        vertical-align: middle;\n",
       "    }\n",
       "\n",
       "    .dataframe tbody tr th {\n",
       "        vertical-align: top;\n",
       "    }\n",
       "\n",
       "    .dataframe thead th {\n",
       "        text-align: right;\n",
       "    }\n",
       "</style>\n",
       "<table border=\"1\" class=\"dataframe\">\n",
       "  <thead>\n",
       "    <tr style=\"text-align: right;\">\n",
       "      <th></th>\n",
       "      <th>Category</th>\n",
       "      <th>Amount</th>\n",
       "      <th>Pct Change 2019</th>\n",
       "    </tr>\n",
       "  </thead>\n",
       "  <tbody>\n",
       "    <tr>\n",
       "      <th>0</th>\n",
       "      <td>Motor Vehicle &amp; Parts</td>\n",
       "      <td>801017</td>\n",
       "      <td>-3.4</td>\n",
       "    </tr>\n",
       "    <tr>\n",
       "      <th>1</th>\n",
       "      <td>Furniture</td>\n",
       "      <td>67610</td>\n",
       "      <td>-11.3</td>\n",
       "    </tr>\n",
       "    <tr>\n",
       "      <th>2</th>\n",
       "      <td>Appliances</td>\n",
       "      <td>49890</td>\n",
       "      <td>-16.8</td>\n",
       "    </tr>\n",
       "    <tr>\n",
       "      <th>3</th>\n",
       "      <td>Building &amp; Supplies</td>\n",
       "      <td>289219</td>\n",
       "      <td>11.4</td>\n",
       "    </tr>\n",
       "    <tr>\n",
       "      <th>4</th>\n",
       "      <td>Food &amp; Beverage Stores</td>\n",
       "      <td>566563</td>\n",
       "      <td>12.2</td>\n",
       "    </tr>\n",
       "    <tr>\n",
       "      <th>5</th>\n",
       "      <td>Health &amp; Personal Care</td>\n",
       "      <td>236769</td>\n",
       "      <td>0.1</td>\n",
       "    </tr>\n",
       "    <tr>\n",
       "      <th>6</th>\n",
       "      <td>Gas Stations</td>\n",
       "      <td>277960</td>\n",
       "      <td>-16.9</td>\n",
       "    </tr>\n",
       "    <tr>\n",
       "      <th>7</th>\n",
       "      <td>Clothing &amp; Accessories</td>\n",
       "      <td>108616</td>\n",
       "      <td>-34.9</td>\n",
       "    </tr>\n",
       "    <tr>\n",
       "      <th>8</th>\n",
       "      <td>Sports &amp; Leisure</td>\n",
       "      <td>50087</td>\n",
       "      <td>-0.7</td>\n",
       "    </tr>\n",
       "    <tr>\n",
       "      <th>9</th>\n",
       "      <td>General Merchandise</td>\n",
       "      <td>467022</td>\n",
       "      <td>2.2</td>\n",
       "    </tr>\n",
       "    <tr>\n",
       "      <th>10</th>\n",
       "      <td>Miscellaneous Stores</td>\n",
       "      <td>83094</td>\n",
       "      <td>-4.5</td>\n",
       "    </tr>\n",
       "    <tr>\n",
       "      <th>11</th>\n",
       "      <td>Nonstore Retailers</td>\n",
       "      <td>593921</td>\n",
       "      <td>19.6</td>\n",
       "    </tr>\n",
       "    <tr>\n",
       "      <th>12</th>\n",
       "      <td>Food Services &amp; Drinking</td>\n",
       "      <td>403894</td>\n",
       "      <td>-20.9</td>\n",
       "    </tr>\n",
       "  </tbody>\n",
       "</table>\n",
       "</div>"
      ],
      "text/plain": [
       "                    Category  Amount  Pct Change 2019\n",
       "0      Motor Vehicle & Parts  801017             -3.4\n",
       "1                  Furniture   67610            -11.3\n",
       "2                 Appliances   49890            -16.8\n",
       "3        Building & Supplies  289219             11.4\n",
       "4     Food & Beverage Stores  566563             12.2\n",
       "5     Health & Personal Care  236769              0.1\n",
       "6               Gas Stations  277960            -16.9\n",
       "7     Clothing & Accessories  108616            -34.9\n",
       "8           Sports & Leisure   50087             -0.7\n",
       "9        General Merchandise  467022              2.2\n",
       "10      Miscellaneous Stores   83094             -4.5\n",
       "11        Nonstore Retailers  593921             19.6\n",
       "12  Food Services & Drinking  403894            -20.9"
      ]
     },
     "execution_count": 16,
     "metadata": {},
     "output_type": "execute_result"
    }
   ],
   "source": [
    "retail_cat = retail_biz[['Category', 'Amount', 'Pct Change 2019']]\n",
    "retail_cat"
   ]
  },
  {
   "cell_type": "markdown",
   "metadata": {},
   "source": [
    "- Inspect columns and data type of **retail_cat**"
   ]
  },
  {
   "cell_type": "code",
   "execution_count": 17,
   "metadata": {},
   "outputs": [
    {
     "name": "stdout",
     "output_type": "stream",
     "text": [
      "<class 'pandas.core.frame.DataFrame'>\n",
      "RangeIndex: 13 entries, 0 to 12\n",
      "Data columns (total 3 columns):\n",
      " #   Column           Non-Null Count  Dtype  \n",
      "---  ------           --------------  -----  \n",
      " 0   Category         13 non-null     object \n",
      " 1   Amount           13 non-null     int64  \n",
      " 2   Pct Change 2019  13 non-null     float64\n",
      "dtypes: float64(1), int64(1), object(1)\n",
      "memory usage: 440.0+ bytes\n"
     ]
    }
   ],
   "source": [
    "retail_cat.info()"
   ]
  },
  {
   "cell_type": "markdown",
   "metadata": {},
   "source": [
    "- Bar chart of Retail Sales Category"
   ]
  },
  {
   "cell_type": "code",
   "execution_count": 18,
   "metadata": {},
   "outputs": [
    {
     "data": {
      "image/png": "[encoded data removed]",
      "text/plain": [
       "<Figure size 1080x360 with 1 Axes>"
      ]
     },
     "metadata": {
      "needs_background": "light"
     },
     "output_type": "display_data"
    },
    {
     "data": {
      "text/plain": [
       "<Figure size 1080x360 with 0 Axes>"
      ]
     },
     "metadata": {},
     "output_type": "display_data"
    }
   ],
   "source": [
    "plt.rcParams['figure.figsize'] = [15, 5]\n",
    "plt.bar(retail_cat['Category'], retail_cat['Amount'], color='b', alpha=0.5, align=\"center\")\n",
    "plt.ylabel('Amount ($ Millions)')\n",
    "plt.title('Retail Sales by Category 2020-Jan to 2020-Aug')\n",
    "plt.xticks(rotation=90)\n",
    "plt.show()\n",
    "plt.savefig('retail_category_2020.png')"
   ]
  },
  {
   "cell_type": "markdown",
   "metadata": {},
   "source": [
    "- Extract top 5 sales by category: **top_5_sales_cat**"
   ]
  },
  {
   "cell_type": "code",
   "execution_count": 19,
   "metadata": {},
   "outputs": [
    {
     "data": {
      "text/html": [
       "<div>\n",
       "<style scoped>\n",
       "    .dataframe tbody tr th:only-of-type {\n",
       "        vertical-align: middle;\n",
       "    }\n",
       "\n",
       "    .dataframe tbody tr th {\n",
       "        vertical-align: top;\n",
       "    }\n",
       "\n",
       "    .dataframe thead th {\n",
       "        text-align: right;\n",
       "    }\n",
       "</style>\n",
       "<table border=\"1\" class=\"dataframe\">\n",
       "  <thead>\n",
       "    <tr style=\"text-align: right;\">\n",
       "      <th></th>\n",
       "      <th>Category</th>\n",
       "      <th>Amount</th>\n",
       "      <th>Pct Change 2019</th>\n",
       "    </tr>\n",
       "  </thead>\n",
       "  <tbody>\n",
       "    <tr>\n",
       "      <th>0</th>\n",
       "      <td>Motor Vehicle &amp; Parts</td>\n",
       "      <td>801017</td>\n",
       "      <td>-3.4</td>\n",
       "    </tr>\n",
       "    <tr>\n",
       "      <th>11</th>\n",
       "      <td>Nonstore Retailers</td>\n",
       "      <td>593921</td>\n",
       "      <td>19.6</td>\n",
       "    </tr>\n",
       "    <tr>\n",
       "      <th>4</th>\n",
       "      <td>Food &amp; Beverage Stores</td>\n",
       "      <td>566563</td>\n",
       "      <td>12.2</td>\n",
       "    </tr>\n",
       "    <tr>\n",
       "      <th>9</th>\n",
       "      <td>General Merchandise</td>\n",
       "      <td>467022</td>\n",
       "      <td>2.2</td>\n",
       "    </tr>\n",
       "    <tr>\n",
       "      <th>12</th>\n",
       "      <td>Food Services &amp; Drinking</td>\n",
       "      <td>403894</td>\n",
       "      <td>-20.9</td>\n",
       "    </tr>\n",
       "  </tbody>\n",
       "</table>\n",
       "</div>"
      ],
      "text/plain": [
       "                    Category  Amount  Pct Change 2019\n",
       "0      Motor Vehicle & Parts  801017             -3.4\n",
       "11        Nonstore Retailers  593921             19.6\n",
       "4     Food & Beverage Stores  566563             12.2\n",
       "9        General Merchandise  467022              2.2\n",
       "12  Food Services & Drinking  403894            -20.9"
      ]
     },
     "execution_count": 19,
     "metadata": {},
     "output_type": "execute_result"
    }
   ],
   "source": [
    "top_5_sales_cat = retail_cat.nlargest(5, 'Amount')\n",
    "top_5_sales_cat"
   ]
  },
  {
   "cell_type": "markdown",
   "metadata": {},
   "source": [
    "- Bar chart of **top_5_sales_cat**"
   ]
  },
  {
   "cell_type": "code",
   "execution_count": 54,
   "metadata": {},
   "outputs": [
    {
     "data": {
      "image/png": "[encoded data removed]",
      "text/plain": [
       "<Figure size 1080x360 with 1 Axes>"
      ]
     },
     "metadata": {
      "needs_background": "light"
     },
     "output_type": "display_data"
    },
    {
     "data": {
      "text/plain": [
       "<Figure size 1080x360 with 0 Axes>"
      ]
     },
     "metadata": {},
     "output_type": "display_data"
    }
   ],
   "source": [
    "plt.rcParams['figure.figsize'] = [15, 5]\n",
    "plt.bar(top_5_sales_cat['Category'], top_5_sales_cat['Amount'], color='b', alpha=0.5, align=\"center\")\n",
    "plt.ylabel('Amount ($ Millions)')\n",
    "plt.title('Top 5 Retail Sales by Category 2020-Jan to 2020-Aug')\n",
    "plt.xticks(rotation=90)\n",
    "plt.show()\n",
    "plt.savefig('top_5_retail_cat.png')"
   ]
  },
  {
   "cell_type": "markdown",
   "metadata": {},
   "source": [
    "- Bar chart Retail Sales Percent Change"
   ]
  },
  {
   "cell_type": "code",
   "execution_count": 21,
   "metadata": {},
   "outputs": [
    {
     "data": {
      "image/png": "[encoded data removed]",
      "text/plain": [
       "<Figure size 1080x360 with 1 Axes>"
      ]
     },
     "metadata": {
      "needs_background": "light"
     },
     "output_type": "display_data"
    },
    {
     "data": {
      "text/plain": [
       "<Figure size 1080x360 with 0 Axes>"
      ]
     },
     "metadata": {},
     "output_type": "display_data"
    }
   ],
   "source": [
    "plt.rcParams['figure.figsize'] = [15, 5]\n",
    "plt.bar(retail_cat['Category'], retail_cat['Pct Change 2019'], color='r', alpha=0.5, align=\"center\")\n",
    "plt.xticks(rotation=90)\n",
    "plt.ylabel('Percent Change %')\n",
    "plt.title('Percent Change of Retail Sales From 2019')\n",
    "plt.show()\n",
    "plt.savefig('retail_percent_change.png')"
   ]
  },
  {
   "cell_type": "markdown",
   "metadata": {},
   "source": [
    "- Extract Top 5 Retail Sales Percent Change by Categories: **top_5_pct_change**"
   ]
  },
  {
   "cell_type": "code",
   "execution_count": 22,
   "metadata": {},
   "outputs": [
    {
     "data": {
      "text/html": [
       "<div>\n",
       "<style scoped>\n",
       "    .dataframe tbody tr th:only-of-type {\n",
       "        vertical-align: middle;\n",
       "    }\n",
       "\n",
       "    .dataframe tbody tr th {\n",
       "        vertical-align: top;\n",
       "    }\n",
       "\n",
       "    .dataframe thead th {\n",
       "        text-align: right;\n",
       "    }\n",
       "</style>\n",
       "<table border=\"1\" class=\"dataframe\">\n",
       "  <thead>\n",
       "    <tr style=\"text-align: right;\">\n",
       "      <th></th>\n",
       "      <th>Category</th>\n",
       "      <th>Amount</th>\n",
       "      <th>Pct Change 2019</th>\n",
       "    </tr>\n",
       "  </thead>\n",
       "  <tbody>\n",
       "    <tr>\n",
       "      <th>11</th>\n",
       "      <td>Nonstore Retailers</td>\n",
       "      <td>593921</td>\n",
       "      <td>19.6</td>\n",
       "    </tr>\n",
       "    <tr>\n",
       "      <th>4</th>\n",
       "      <td>Food &amp; Beverage Stores</td>\n",
       "      <td>566563</td>\n",
       "      <td>12.2</td>\n",
       "    </tr>\n",
       "    <tr>\n",
       "      <th>3</th>\n",
       "      <td>Building &amp; Supplies</td>\n",
       "      <td>289219</td>\n",
       "      <td>11.4</td>\n",
       "    </tr>\n",
       "    <tr>\n",
       "      <th>9</th>\n",
       "      <td>General Merchandise</td>\n",
       "      <td>467022</td>\n",
       "      <td>2.2</td>\n",
       "    </tr>\n",
       "    <tr>\n",
       "      <th>5</th>\n",
       "      <td>Health &amp; Personal Care</td>\n",
       "      <td>236769</td>\n",
       "      <td>0.1</td>\n",
       "    </tr>\n",
       "  </tbody>\n",
       "</table>\n",
       "</div>"
      ],
      "text/plain": [
       "                  Category  Amount  Pct Change 2019\n",
       "11      Nonstore Retailers  593921             19.6\n",
       "4   Food & Beverage Stores  566563             12.2\n",
       "3      Building & Supplies  289219             11.4\n",
       "9      General Merchandise  467022              2.2\n",
       "5   Health & Personal Care  236769              0.1"
      ]
     },
     "execution_count": 22,
     "metadata": {},
     "output_type": "execute_result"
    }
   ],
   "source": [
    "top_5_pct_change = retail_cat.nlargest(5, 'Pct Change 2019')\n",
    "top_5_pct_change"
   ]
  },
  {
   "cell_type": "code",
   "execution_count": 23,
   "metadata": {},
   "outputs": [
    {
     "data": {
      "image/png": "[encoded data removed]",
      "text/plain": [
       "<Figure size 1080x360 with 1 Axes>"
      ]
     },
     "metadata": {
      "needs_background": "light"
     },
     "output_type": "display_data"
    },
    {
     "data": {
      "text/plain": [
       "<Figure size 1080x360 with 0 Axes>"
      ]
     },
     "metadata": {},
     "output_type": "display_data"
    }
   ],
   "source": [
    "plt.rcParams['figure.figsize'] = [15, 5]\n",
    "plt.bar(top_5_pct_change['Category'], top_5_pct_change['Pct Change 2019'], color='r', alpha=0.5, align=\"center\")\n",
    "plt.ylabel('Amount ($ Millions)')\n",
    "plt.title('Top 5 Retail Sales Percent Change by Category 2020-Jan to 2020-Aug')\n",
    "plt.xticks(rotation=90)\n",
    "plt.show()\n",
    "plt.savefig('top_5_retail_pct_cat.png')"
   ]
  },
  {
   "cell_type": "markdown",
   "metadata": {},
   "source": [
    "- Bottom 5 Retail Sales Percent Change by category: **bottom_5_pct_change**"
   ]
  },
  {
   "cell_type": "code",
   "execution_count": 24,
   "metadata": {},
   "outputs": [
    {
     "data": {
      "text/html": [
       "<div>\n",
       "<style scoped>\n",
       "    .dataframe tbody tr th:only-of-type {\n",
       "        vertical-align: middle;\n",
       "    }\n",
       "\n",
       "    .dataframe tbody tr th {\n",
       "        vertical-align: top;\n",
       "    }\n",
       "\n",
       "    .dataframe thead th {\n",
       "        text-align: right;\n",
       "    }\n",
       "</style>\n",
       "<table border=\"1\" class=\"dataframe\">\n",
       "  <thead>\n",
       "    <tr style=\"text-align: right;\">\n",
       "      <th></th>\n",
       "      <th>Category</th>\n",
       "      <th>Amount</th>\n",
       "      <th>Pct Change 2019</th>\n",
       "    </tr>\n",
       "  </thead>\n",
       "  <tbody>\n",
       "    <tr>\n",
       "      <th>7</th>\n",
       "      <td>Clothing &amp; Accessories</td>\n",
       "      <td>108616</td>\n",
       "      <td>-34.9</td>\n",
       "    </tr>\n",
       "    <tr>\n",
       "      <th>12</th>\n",
       "      <td>Food Services &amp; Drinking</td>\n",
       "      <td>403894</td>\n",
       "      <td>-20.9</td>\n",
       "    </tr>\n",
       "    <tr>\n",
       "      <th>6</th>\n",
       "      <td>Gas Stations</td>\n",
       "      <td>277960</td>\n",
       "      <td>-16.9</td>\n",
       "    </tr>\n",
       "    <tr>\n",
       "      <th>2</th>\n",
       "      <td>Appliances</td>\n",
       "      <td>49890</td>\n",
       "      <td>-16.8</td>\n",
       "    </tr>\n",
       "    <tr>\n",
       "      <th>1</th>\n",
       "      <td>Furniture</td>\n",
       "      <td>67610</td>\n",
       "      <td>-11.3</td>\n",
       "    </tr>\n",
       "  </tbody>\n",
       "</table>\n",
       "</div>"
      ],
      "text/plain": [
       "                    Category  Amount  Pct Change 2019\n",
       "7     Clothing & Accessories  108616            -34.9\n",
       "12  Food Services & Drinking  403894            -20.9\n",
       "6               Gas Stations  277960            -16.9\n",
       "2                 Appliances   49890            -16.8\n",
       "1                  Furniture   67610            -11.3"
      ]
     },
     "execution_count": 24,
     "metadata": {},
     "output_type": "execute_result"
    }
   ],
   "source": [
    "bottom_5_pct_change = retail_cat.nsmallest(5, 'Pct Change 2019')\n",
    "bottom_5_pct_change"
   ]
  },
  {
   "cell_type": "code",
   "execution_count": 25,
   "metadata": {},
   "outputs": [
    {
     "data": {
      "image/png": "[encoded data removed]",
      "text/plain": [
       "<Figure size 1080x360 with 1 Axes>"
      ]
     },
     "metadata": {
      "needs_background": "light"
     },
     "output_type": "display_data"
    },
    {
     "data": {
      "text/plain": [
       "<Figure size 1080x360 with 0 Axes>"
      ]
     },
     "metadata": {},
     "output_type": "display_data"
    }
   ],
   "source": [
    "plt.rcParams['figure.figsize'] = [15, 5]\n",
    "plt.bar(bottom_5_pct_change['Category'], bottom_5_pct_change['Pct Change 2019'], color='r', alpha=0.5, align=\"center\")\n",
    "plt.ylabel('Amount ($ Millions)')\n",
    "plt.title('Bottom 5 Retail Sales Percent Change by Category 2020-Jan to 2020-Aug')\n",
    "plt.xticks(rotation=90)\n",
    "plt.show()\n",
    "plt.savefig('bottom_5_retail_pct_cat.png')"
   ]
  },
  {
   "cell_type": "markdown",
   "metadata": {},
   "source": [
    "## Section 3: **E-Commerce**"
   ]
  },
  {
   "cell_type": "markdown",
   "metadata": {},
   "source": [
    "- Load e-commerce in data frame: **e_com**\n",
    "- Inspect column names\n",
    "- Inspect first 5 rows"
   ]
  },
  {
   "cell_type": "code",
   "execution_count": 26,
   "metadata": {},
   "outputs": [
    {
     "data": {
      "text/html": [
       "<div>\n",
       "<style scoped>\n",
       "    .dataframe tbody tr th:only-of-type {\n",
       "        vertical-align: middle;\n",
       "    }\n",
       "\n",
       "    .dataframe tbody tr th {\n",
       "        vertical-align: top;\n",
       "    }\n",
       "\n",
       "    .dataframe thead th {\n",
       "        text-align: right;\n",
       "    }\n",
       "</style>\n",
       "<table border=\"1\" class=\"dataframe\">\n",
       "  <thead>\n",
       "    <tr style=\"text-align: right;\">\n",
       "      <th></th>\n",
       "      <th>Quarter</th>\n",
       "      <th>Retail Total</th>\n",
       "      <th>E_Commerce</th>\n",
       "      <th>E_Com_Pct_Total</th>\n",
       "      <th>Total_Pct_chnge_prQ</th>\n",
       "      <th>E_com_Pct_chnge_prQ</th>\n",
       "      <th>Total_Pct_chnge_sameQ</th>\n",
       "      <th>E_com_Pct_chnge_sameQ</th>\n",
       "    </tr>\n",
       "  </thead>\n",
       "  <tbody>\n",
       "    <tr>\n",
       "      <th>0</th>\n",
       "      <td>2nd quarter 2020(p)</td>\n",
       "      <td>1310973</td>\n",
       "      <td>211505</td>\n",
       "      <td>16.1</td>\n",
       "      <td>-3.9</td>\n",
       "      <td>31.8</td>\n",
       "      <td>-3.6</td>\n",
       "      <td>44.5</td>\n",
       "    </tr>\n",
       "    <tr>\n",
       "      <th>1</th>\n",
       "      <td>1st quarter 2020(r)</td>\n",
       "      <td>1364197</td>\n",
       "      <td>160414</td>\n",
       "      <td>11.8</td>\n",
       "      <td>-1.2</td>\n",
       "      <td>2.4</td>\n",
       "      <td>2.1</td>\n",
       "      <td>14.8</td>\n",
       "    </tr>\n",
       "    <tr>\n",
       "      <th>2</th>\n",
       "      <td>4th quarter 2019</td>\n",
       "      <td>1381250</td>\n",
       "      <td>156581</td>\n",
       "      <td>11.3</td>\n",
       "      <td>0.5</td>\n",
       "      <td>2.2</td>\n",
       "      <td>3.9</td>\n",
       "      <td>16.6</td>\n",
       "    </tr>\n",
       "    <tr>\n",
       "      <th>3</th>\n",
       "      <td>3rd quarter 2019</td>\n",
       "      <td>1374212</td>\n",
       "      <td>153274</td>\n",
       "      <td>11.2</td>\n",
       "      <td>1.1</td>\n",
       "      <td>4.7</td>\n",
       "      <td>3.9</td>\n",
       "      <td>17.3</td>\n",
       "    </tr>\n",
       "    <tr>\n",
       "      <th>4</th>\n",
       "      <td>2nd quarter 2019(r)</td>\n",
       "      <td>1359250</td>\n",
       "      <td>146394</td>\n",
       "      <td>10.8</td>\n",
       "      <td>1.8</td>\n",
       "      <td>4.8</td>\n",
       "      <td>3.2</td>\n",
       "      <td>13.8</td>\n",
       "    </tr>\n",
       "  </tbody>\n",
       "</table>\n",
       "</div>"
      ],
      "text/plain": [
       "               Quarter  Retail Total  E_Commerce  E_Com_Pct_Total  \\\n",
       "0  2nd quarter 2020(p)       1310973      211505             16.1   \n",
       "1  1st quarter 2020(r)       1364197      160414             11.8   \n",
       "2     4th quarter 2019       1381250      156581             11.3   \n",
       "3     3rd quarter 2019       1374212      153274             11.2   \n",
       "4  2nd quarter 2019(r)       1359250      146394             10.8   \n",
       "\n",
       "   Total_Pct_chnge_prQ  E_com_Pct_chnge_prQ  Total_Pct_chnge_sameQ  \\\n",
       "0                 -3.9                 31.8                   -3.6   \n",
       "1                 -1.2                  2.4                    2.1   \n",
       "2                  0.5                  2.2                    3.9   \n",
       "3                  1.1                  4.7                    3.9   \n",
       "4                  1.8                  4.8                    3.2   \n",
       "\n",
       "   E_com_Pct_chnge_sameQ  \n",
       "0                   44.5  \n",
       "1                   14.8  \n",
       "2                   16.6  \n",
       "3                   17.3  \n",
       "4                   13.8  "
      ]
     },
     "execution_count": 26,
     "metadata": {},
     "output_type": "execute_result"
    }
   ],
   "source": [
    "file = r\"C:\\Users\\lenpk\\OneDrive\\Desktop\\useful_data\\e-com-timeseries.txt\"\n",
    "e_com = pd.read_csv(file, sep= \"/\", header = None)\n",
    "e_com.columns = ['Quarter', 'Retail Total', 'E_Commerce', 'E_Com_Pct_Total', 'Total_Pct_chnge_prQ', 'E_com_Pct_chnge_prQ',\\\n",
    "                 'Total_Pct_chnge_sameQ', 'E_com_Pct_chnge_sameQ']\n",
    "e_com.head()"
   ]
  },
  {
   "cell_type": "markdown",
   "metadata": {},
   "source": [
    "- Extract e-commerce sales for the last 5 years: **e_com_5**\n",
    "- Inspect first 5 rows"
   ]
  },
  {
   "cell_type": "code",
   "execution_count": 27,
   "metadata": {},
   "outputs": [
    {
     "data": {
      "text/html": [
       "<div>\n",
       "<style scoped>\n",
       "    .dataframe tbody tr th:only-of-type {\n",
       "        vertical-align: middle;\n",
       "    }\n",
       "\n",
       "    .dataframe tbody tr th {\n",
       "        vertical-align: top;\n",
       "    }\n",
       "\n",
       "    .dataframe thead th {\n",
       "        text-align: right;\n",
       "    }\n",
       "</style>\n",
       "<table border=\"1\" class=\"dataframe\">\n",
       "  <thead>\n",
       "    <tr style=\"text-align: right;\">\n",
       "      <th></th>\n",
       "      <th>Quarter</th>\n",
       "      <th>Retail Total</th>\n",
       "      <th>E_Commerce</th>\n",
       "      <th>E_Com_Pct_Total</th>\n",
       "      <th>Total_Pct_chnge_prQ</th>\n",
       "      <th>E_com_Pct_chnge_prQ</th>\n",
       "      <th>Total_Pct_chnge_sameQ</th>\n",
       "      <th>E_com_Pct_chnge_sameQ</th>\n",
       "    </tr>\n",
       "  </thead>\n",
       "  <tbody>\n",
       "    <tr>\n",
       "      <th>0</th>\n",
       "      <td>2nd quarter 2020(p)</td>\n",
       "      <td>1310973</td>\n",
       "      <td>211505</td>\n",
       "      <td>16.1</td>\n",
       "      <td>-3.9</td>\n",
       "      <td>31.8</td>\n",
       "      <td>-3.6</td>\n",
       "      <td>44.5</td>\n",
       "    </tr>\n",
       "    <tr>\n",
       "      <th>1</th>\n",
       "      <td>1st quarter 2020(r)</td>\n",
       "      <td>1364197</td>\n",
       "      <td>160414</td>\n",
       "      <td>11.8</td>\n",
       "      <td>-1.2</td>\n",
       "      <td>2.4</td>\n",
       "      <td>2.1</td>\n",
       "      <td>14.8</td>\n",
       "    </tr>\n",
       "    <tr>\n",
       "      <th>2</th>\n",
       "      <td>4th quarter 2019</td>\n",
       "      <td>1381250</td>\n",
       "      <td>156581</td>\n",
       "      <td>11.3</td>\n",
       "      <td>0.5</td>\n",
       "      <td>2.2</td>\n",
       "      <td>3.9</td>\n",
       "      <td>16.6</td>\n",
       "    </tr>\n",
       "    <tr>\n",
       "      <th>3</th>\n",
       "      <td>3rd quarter 2019</td>\n",
       "      <td>1374212</td>\n",
       "      <td>153274</td>\n",
       "      <td>11.2</td>\n",
       "      <td>1.1</td>\n",
       "      <td>4.7</td>\n",
       "      <td>3.9</td>\n",
       "      <td>17.3</td>\n",
       "    </tr>\n",
       "    <tr>\n",
       "      <th>4</th>\n",
       "      <td>2nd quarter 2019(r)</td>\n",
       "      <td>1359250</td>\n",
       "      <td>146394</td>\n",
       "      <td>10.8</td>\n",
       "      <td>1.8</td>\n",
       "      <td>4.8</td>\n",
       "      <td>3.2</td>\n",
       "      <td>13.8</td>\n",
       "    </tr>\n",
       "  </tbody>\n",
       "</table>\n",
       "</div>"
      ],
      "text/plain": [
       "               Quarter  Retail Total  E_Commerce  E_Com_Pct_Total  \\\n",
       "0  2nd quarter 2020(p)       1310973      211505             16.1   \n",
       "1  1st quarter 2020(r)       1364197      160414             11.8   \n",
       "2     4th quarter 2019       1381250      156581             11.3   \n",
       "3     3rd quarter 2019       1374212      153274             11.2   \n",
       "4  2nd quarter 2019(r)       1359250      146394             10.8   \n",
       "\n",
       "   Total_Pct_chnge_prQ  E_com_Pct_chnge_prQ  Total_Pct_chnge_sameQ  \\\n",
       "0                 -3.9                 31.8                   -3.6   \n",
       "1                 -1.2                  2.4                    2.1   \n",
       "2                  0.5                  2.2                    3.9   \n",
       "3                  1.1                  4.7                    3.9   \n",
       "4                  1.8                  4.8                    3.2   \n",
       "\n",
       "   E_com_Pct_chnge_sameQ  \n",
       "0                   44.5  \n",
       "1                   14.8  \n",
       "2                   16.6  \n",
       "3                   17.3  \n",
       "4                   13.8  "
      ]
     },
     "execution_count": 27,
     "metadata": {},
     "output_type": "execute_result"
    }
   ],
   "source": [
    "# e-coms over 5 year period\n",
    "e_com_5 = e_com.loc[0:17]\n",
    "e_com_5.head()"
   ]
  },
  {
   "cell_type": "markdown",
   "metadata": {},
   "source": [
    "- Create new labels for *Quarters* Column: **e_com_5_labels**"
   ]
  },
  {
   "cell_type": "code",
   "execution_count": 28,
   "metadata": {},
   "outputs": [
    {
     "name": "stderr",
     "output_type": "stream",
     "text": [
      "C:\\Users\\lenpk\\anaconda3\\envs\\PythonData\\lib\\site-packages\\ipykernel_launcher.py:8: SettingWithCopyWarning: \n",
      "A value is trying to be set on a copy of a slice from a DataFrame.\n",
      "Try using .loc[row_indexer,col_indexer] = value instead\n",
      "\n",
      "See the caveats in the documentation: https://pandas.pydata.org/pandas-docs/stable/user_guide/indexing.html#returning-a-view-versus-a-copy\n",
      "  \n"
     ]
    }
   ],
   "source": [
    "e_com_5_labels = ['Q2_20', 'Q1_20',\\\n",
    "                  'Q4_19', 'Q3_19', 'Q2_19', 'Q1_19',\\\n",
    "                  'Q4_18', 'Q3_18', 'Q2_18', 'Q1_18',\\\n",
    "                  'Q4_17', 'Q3_17', 'Q2_17', 'Q1_17',\\\n",
    "                 'Q4_16', 'Q3_16', 'Q2_16', 'Q1_16']\n",
    "labels = [label for label in e_com_5_labels]\n",
    "\n",
    "e_com_5['Quarters'] = labels"
   ]
  },
  {
   "cell_type": "markdown",
   "metadata": {},
   "source": [
    "- Extract columns for analysis: **new_e_com_5**"
   ]
  },
  {
   "cell_type": "code",
   "execution_count": 29,
   "metadata": {},
   "outputs": [],
   "source": [
    "new_e_com_5 = e_com_5[['Quarters',  'Retail Total', 'E_Commerce', 'Total_Pct_chnge_sameQ',\n",
    "       'E_com_Pct_chnge_sameQ']]"
   ]
  },
  {
   "cell_type": "markdown",
   "metadata": {},
   "source": [
    "- Sort **new_e_com_5** in descending order: **sort_e_com_5**"
   ]
  },
  {
   "cell_type": "code",
   "execution_count": 30,
   "metadata": {},
   "outputs": [
    {
     "data": {
      "text/html": [
       "<div>\n",
       "<style scoped>\n",
       "    .dataframe tbody tr th:only-of-type {\n",
       "        vertical-align: middle;\n",
       "    }\n",
       "\n",
       "    .dataframe tbody tr th {\n",
       "        vertical-align: top;\n",
       "    }\n",
       "\n",
       "    .dataframe thead th {\n",
       "        text-align: right;\n",
       "    }\n",
       "</style>\n",
       "<table border=\"1\" class=\"dataframe\">\n",
       "  <thead>\n",
       "    <tr style=\"text-align: right;\">\n",
       "      <th></th>\n",
       "      <th>Quarters</th>\n",
       "      <th>Retail Total</th>\n",
       "      <th>E_Commerce</th>\n",
       "      <th>Total_Pct_chnge_sameQ</th>\n",
       "      <th>E_com_Pct_chnge_sameQ</th>\n",
       "    </tr>\n",
       "  </thead>\n",
       "  <tbody>\n",
       "    <tr>\n",
       "      <th>17</th>\n",
       "      <td>Q1_16</td>\n",
       "      <td>1190699</td>\n",
       "      <td>94057</td>\n",
       "      <td>2.5</td>\n",
       "      <td>14.9</td>\n",
       "    </tr>\n",
       "    <tr>\n",
       "      <th>16</th>\n",
       "      <td>Q2_16</td>\n",
       "      <td>1204107</td>\n",
       "      <td>97459</td>\n",
       "      <td>2.0</td>\n",
       "      <td>15.1</td>\n",
       "    </tr>\n",
       "    <tr>\n",
       "      <th>15</th>\n",
       "      <td>Q3_16</td>\n",
       "      <td>1215288</td>\n",
       "      <td>100519</td>\n",
       "      <td>2.0</td>\n",
       "      <td>14.5</td>\n",
       "    </tr>\n",
       "    <tr>\n",
       "      <th>14</th>\n",
       "      <td>Q4_16</td>\n",
       "      <td>1227505</td>\n",
       "      <td>103952</td>\n",
       "      <td>3.3</td>\n",
       "      <td>14.6</td>\n",
       "    </tr>\n",
       "    <tr>\n",
       "      <th>13</th>\n",
       "      <td>Q1_17</td>\n",
       "      <td>1248288</td>\n",
       "      <td>108157</td>\n",
       "      <td>4.8</td>\n",
       "      <td>15.0</td>\n",
       "    </tr>\n",
       "    <tr>\n",
       "      <th>12</th>\n",
       "      <td>Q2_17</td>\n",
       "      <td>1251528</td>\n",
       "      <td>112644</td>\n",
       "      <td>3.9</td>\n",
       "      <td>15.6</td>\n",
       "    </tr>\n",
       "    <tr>\n",
       "      <th>11</th>\n",
       "      <td>Q3_17</td>\n",
       "      <td>1264307</td>\n",
       "      <td>115419</td>\n",
       "      <td>4.0</td>\n",
       "      <td>14.8</td>\n",
       "    </tr>\n",
       "    <tr>\n",
       "      <th>10</th>\n",
       "      <td>Q4_17</td>\n",
       "      <td>1294247</td>\n",
       "      <td>121019</td>\n",
       "      <td>5.4</td>\n",
       "      <td>16.4</td>\n",
       "    </tr>\n",
       "    <tr>\n",
       "      <th>9</th>\n",
       "      <td>Q1_18</td>\n",
       "      <td>1302741</td>\n",
       "      <td>124936</td>\n",
       "      <td>4.4</td>\n",
       "      <td>15.5</td>\n",
       "    </tr>\n",
       "    <tr>\n",
       "      <th>8</th>\n",
       "      <td>Q2_18</td>\n",
       "      <td>1317610</td>\n",
       "      <td>128616</td>\n",
       "      <td>5.3</td>\n",
       "      <td>14.2</td>\n",
       "    </tr>\n",
       "    <tr>\n",
       "      <th>7</th>\n",
       "      <td>Q3_18</td>\n",
       "      <td>1322811</td>\n",
       "      <td>130625</td>\n",
       "      <td>4.6</td>\n",
       "      <td>13.2</td>\n",
       "    </tr>\n",
       "    <tr>\n",
       "      <th>6</th>\n",
       "      <td>Q4_18</td>\n",
       "      <td>1329085</td>\n",
       "      <td>134291</td>\n",
       "      <td>2.7</td>\n",
       "      <td>11.0</td>\n",
       "    </tr>\n",
       "    <tr>\n",
       "      <th>5</th>\n",
       "      <td>Q1_19</td>\n",
       "      <td>1335812</td>\n",
       "      <td>139713</td>\n",
       "      <td>2.5</td>\n",
       "      <td>11.8</td>\n",
       "    </tr>\n",
       "    <tr>\n",
       "      <th>4</th>\n",
       "      <td>Q2_19</td>\n",
       "      <td>1359250</td>\n",
       "      <td>146394</td>\n",
       "      <td>3.2</td>\n",
       "      <td>13.8</td>\n",
       "    </tr>\n",
       "    <tr>\n",
       "      <th>3</th>\n",
       "      <td>Q3_19</td>\n",
       "      <td>1374212</td>\n",
       "      <td>153274</td>\n",
       "      <td>3.9</td>\n",
       "      <td>17.3</td>\n",
       "    </tr>\n",
       "    <tr>\n",
       "      <th>2</th>\n",
       "      <td>Q4_19</td>\n",
       "      <td>1381250</td>\n",
       "      <td>156581</td>\n",
       "      <td>3.9</td>\n",
       "      <td>16.6</td>\n",
       "    </tr>\n",
       "    <tr>\n",
       "      <th>1</th>\n",
       "      <td>Q1_20</td>\n",
       "      <td>1364197</td>\n",
       "      <td>160414</td>\n",
       "      <td>2.1</td>\n",
       "      <td>14.8</td>\n",
       "    </tr>\n",
       "    <tr>\n",
       "      <th>0</th>\n",
       "      <td>Q2_20</td>\n",
       "      <td>1310973</td>\n",
       "      <td>211505</td>\n",
       "      <td>-3.6</td>\n",
       "      <td>44.5</td>\n",
       "    </tr>\n",
       "  </tbody>\n",
       "</table>\n",
       "</div>"
      ],
      "text/plain": [
       "   Quarters  Retail Total  E_Commerce  Total_Pct_chnge_sameQ  \\\n",
       "17    Q1_16       1190699       94057                    2.5   \n",
       "16    Q2_16       1204107       97459                    2.0   \n",
       "15    Q3_16       1215288      100519                    2.0   \n",
       "14    Q4_16       1227505      103952                    3.3   \n",
       "13    Q1_17       1248288      108157                    4.8   \n",
       "12    Q2_17       1251528      112644                    3.9   \n",
       "11    Q3_17       1264307      115419                    4.0   \n",
       "10    Q4_17       1294247      121019                    5.4   \n",
       "9     Q1_18       1302741      124936                    4.4   \n",
       "8     Q2_18       1317610      128616                    5.3   \n",
       "7     Q3_18       1322811      130625                    4.6   \n",
       "6     Q4_18       1329085      134291                    2.7   \n",
       "5     Q1_19       1335812      139713                    2.5   \n",
       "4     Q2_19       1359250      146394                    3.2   \n",
       "3     Q3_19       1374212      153274                    3.9   \n",
       "2     Q4_19       1381250      156581                    3.9   \n",
       "1     Q1_20       1364197      160414                    2.1   \n",
       "0     Q2_20       1310973      211505                   -3.6   \n",
       "\n",
       "    E_com_Pct_chnge_sameQ  \n",
       "17                   14.9  \n",
       "16                   15.1  \n",
       "15                   14.5  \n",
       "14                   14.6  \n",
       "13                   15.0  \n",
       "12                   15.6  \n",
       "11                   14.8  \n",
       "10                   16.4  \n",
       "9                    15.5  \n",
       "8                    14.2  \n",
       "7                    13.2  \n",
       "6                    11.0  \n",
       "5                    11.8  \n",
       "4                    13.8  \n",
       "3                    17.3  \n",
       "2                    16.6  \n",
       "1                    14.8  \n",
       "0                    44.5  "
      ]
     },
     "execution_count": 30,
     "metadata": {},
     "output_type": "execute_result"
    }
   ],
   "source": [
    "sort_e_com_5 = new_e_com_5.sort_index(ascending=False)\n",
    "sort_e_com_5"
   ]
  },
  {
   "cell_type": "markdown",
   "metadata": {},
   "source": [
    "- Bar plot of **sort_e_com_5**"
   ]
  },
  {
   "cell_type": "code",
   "execution_count": 31,
   "metadata": {},
   "outputs": [
    {
     "data": {
      "image/png": "[encoded data removed]",
      "text/plain": [
       "<Figure size 1080x360 with 1 Axes>"
      ]
     },
     "metadata": {
      "needs_background": "light"
     },
     "output_type": "display_data"
    },
    {
     "data": {
      "text/plain": [
       "<Figure size 1080x360 with 0 Axes>"
      ]
     },
     "metadata": {},
     "output_type": "display_data"
    }
   ],
   "source": [
    "plt.rcParams['figure.figsize'] = [15, 5]\n",
    "x_axis = sort_e_com_5['Quarters']\n",
    "y_axis = sort_e_com_5['E_Commerce']\n",
    "plt.xticks(rotation=90)\n",
    "plt.title('E-Commerce Sales 2016-Q1 to 2020-Q2')\n",
    "plt.ylabel('Amount ($ Millions)')\n",
    "plt.bar(x_axis, y_axis, color='b', alpha=0.5, align=\"center\")\n",
    "plt.show()\n",
    "plt.savefig('e_com_sales_16to20.png')"
   ]
  },
  {
   "cell_type": "markdown",
   "metadata": {},
   "source": [
    "- Line plot of Retail vs E-Commerce"
   ]
  },
  {
   "cell_type": "code",
   "execution_count": 32,
   "metadata": {},
   "outputs": [
    {
     "data": {
      "image/png": "[encoded data removed]",
      "text/plain": [
       "<Figure size 1080x360 with 2 Axes>"
      ]
     },
     "metadata": {
      "needs_background": "light"
     },
     "output_type": "display_data"
    },
    {
     "data": {
      "text/plain": [
       "<Figure size 1080x360 with 0 Axes>"
      ]
     },
     "metadata": {},
     "output_type": "display_data"
    }
   ],
   "source": [
    "plt.rcParams['figure.figsize'] = [15, 5]\n",
    "labs = sort_e_com_5['Quarters']\n",
    "t = [x for x in labs]\n",
    "data1 = sort_e_com_5['Retail Total']\n",
    "data2 = sort_e_com_5['E_Commerce']\n",
    "\n",
    "# labels = t\n",
    "fig, ax1 = plt.subplots()\n",
    "\n",
    "color = 'tab:red'\n",
    "ax1.set_xlabel('Quarters')\n",
    "ax1.set_ylabel('Total Retail $ (Millions)', color=color)\n",
    "plt.xticks(rotation=90)\n",
    "plt.title('Total Retail vs E-Commerce Trend 2016Q1-2020Q2')\n",
    "ax1.plot(t, data1, color=color)\n",
    "ax1.tick_params(axis='y', labelcolor=color)\n",
    "\n",
    "\n",
    "\n",
    "ax2 = ax1.twinx()  \n",
    "\n",
    "color = 'tab:blue'\n",
    "ax2.set_ylabel('E-Commerce $ (Millions)', color=color) \n",
    "ax2.plot(t, data2, color=color)\n",
    "ax2.tick_params(axis='y', labelcolor=color)\n",
    "\n",
    "fig.tight_layout() \n",
    "plt.grid()\n",
    "plt.show()\n",
    "plt.savefig('retail_ecom_16to20.png')"
   ]
  },
  {
   "cell_type": "markdown",
   "metadata": {},
   "source": [
    "- Bar Chart of Retail Percent Change by quarter"
   ]
  },
  {
   "cell_type": "code",
   "execution_count": 33,
   "metadata": {},
   "outputs": [
    {
     "data": {
      "image/png": "[encoded data removed]",
      "text/plain": [
       "<Figure size 1080x360 with 1 Axes>"
      ]
     },
     "metadata": {
      "needs_background": "light"
     },
     "output_type": "display_data"
    },
    {
     "data": {
      "text/plain": [
       "<Figure size 1080x360 with 0 Axes>"
      ]
     },
     "metadata": {},
     "output_type": "display_data"
    }
   ],
   "source": [
    "plt.rcParams['figure.figsize'] = [15, 5]\n",
    "plt.bar(sort_e_com_5['Quarters'], sort_e_com_5['Total_Pct_chnge_sameQ'], color='r', alpha=0.5, align=\"center\")\n",
    "\n",
    "plt.xticks(rotation=90)\n",
    "plt.ylabel('Percent Change %')\n",
    "plt.title('Quarterly Percent Change of Retail Sales From 2016')\n",
    "plt.show()\n",
    "plt.savefig('retail_percent_chnge.png')"
   ]
  },
  {
   "cell_type": "markdown",
   "metadata": {},
   "source": [
    "- Bar chart of E-Commerce Quarterly Percent change"
   ]
  },
  {
   "cell_type": "code",
   "execution_count": 34,
   "metadata": {},
   "outputs": [
    {
     "data": {
      "image/png": "[encoded data removed]",
      "text/plain": [
       "<Figure size 1080x360 with 1 Axes>"
      ]
     },
     "metadata": {
      "needs_background": "light"
     },
     "output_type": "display_data"
    },
    {
     "data": {
      "text/plain": [
       "<Figure size 1080x360 with 0 Axes>"
      ]
     },
     "metadata": {},
     "output_type": "display_data"
    }
   ],
   "source": [
    "plt.rcParams['figure.figsize'] = [15, 5]\n",
    "plt.bar(sort_e_com_5['Quarters'], sort_e_com_5['E_com_Pct_chnge_sameQ'], color='b', alpha=0.5, align=\"center\")\n",
    "plt.xticks(rotation=90)\n",
    "plt.ylabel('Percent Change %')\n",
    "plt.title('Quarterly Percent Change of E-Commerce From 2016')\n",
    "plt.show()\n",
    "plt.savefig('e_com_percent_chnge.png')"
   ]
  },
  {
   "cell_type": "markdown",
   "metadata": {},
   "source": [
    "## Section 4: **Retail Grocery**"
   ]
  },
  {
   "cell_type": "markdown",
   "metadata": {},
   "source": [
    "- Read file in data frame: **retail_grocery**"
   ]
  },
  {
   "cell_type": "code",
   "execution_count": 35,
   "metadata": {},
   "outputs": [
    {
     "data": {
      "text/html": [
       "<div>\n",
       "<style scoped>\n",
       "    .dataframe tbody tr th:only-of-type {\n",
       "        vertical-align: middle;\n",
       "    }\n",
       "\n",
       "    .dataframe tbody tr th {\n",
       "        vertical-align: top;\n",
       "    }\n",
       "\n",
       "    .dataframe thead th {\n",
       "        text-align: right;\n",
       "    }\n",
       "</style>\n",
       "<table border=\"1\" class=\"dataframe\">\n",
       "  <thead>\n",
       "    <tr style=\"text-align: right;\">\n",
       "      <th></th>\n",
       "      <th>DATE</th>\n",
       "      <th>RSGCS_20200814</th>\n",
       "      <th>RSGCS_20200916</th>\n",
       "    </tr>\n",
       "  </thead>\n",
       "  <tbody>\n",
       "    <tr>\n",
       "      <th>0</th>\n",
       "      <td>2010-01-01</td>\n",
       "      <td>43028</td>\n",
       "      <td>43028</td>\n",
       "    </tr>\n",
       "    <tr>\n",
       "      <th>1</th>\n",
       "      <td>2010-02-01</td>\n",
       "      <td>43735</td>\n",
       "      <td>43735</td>\n",
       "    </tr>\n",
       "    <tr>\n",
       "      <th>2</th>\n",
       "      <td>2010-03-01</td>\n",
       "      <td>43304</td>\n",
       "      <td>43304</td>\n",
       "    </tr>\n",
       "    <tr>\n",
       "      <th>3</th>\n",
       "      <td>2010-04-01</td>\n",
       "      <td>43186</td>\n",
       "      <td>43186</td>\n",
       "    </tr>\n",
       "    <tr>\n",
       "      <th>4</th>\n",
       "      <td>2010-05-01</td>\n",
       "      <td>43266</td>\n",
       "      <td>43266</td>\n",
       "    </tr>\n",
       "  </tbody>\n",
       "</table>\n",
       "</div>"
      ],
      "text/plain": [
       "         DATE RSGCS_20200814  RSGCS_20200916\n",
       "0  2010-01-01          43028           43028\n",
       "1  2010-02-01          43735           43735\n",
       "2  2010-03-01          43304           43304\n",
       "3  2010-04-01          43186           43186\n",
       "4  2010-05-01          43266           43266"
      ]
     },
     "execution_count": 35,
     "metadata": {},
     "output_type": "execute_result"
    }
   ],
   "source": [
    "file = r\"C:\\Users\\lenpk\\OneDrive\\Desktop\\useful_data\\retail_grocery.csv\"\n",
    "retail_grocery = pd.read_csv(file)\n",
    "retail_grocery.head()"
   ]
  },
  {
   "cell_type": "markdown",
   "metadata": {},
   "source": [
    "- Inspect **retail_grocery**"
   ]
  },
  {
   "cell_type": "code",
   "execution_count": 36,
   "metadata": {},
   "outputs": [
    {
     "name": "stdout",
     "output_type": "stream",
     "text": [
      "<class 'pandas.core.frame.DataFrame'>\n",
      "RangeIndex: 128 entries, 0 to 127\n",
      "Data columns (total 3 columns):\n",
      " #   Column          Non-Null Count  Dtype \n",
      "---  ------          --------------  ----- \n",
      " 0   DATE            128 non-null    object\n",
      " 1   RSGCS_20200814  128 non-null    object\n",
      " 2   RSGCS_20200916  128 non-null    int64 \n",
      "dtypes: int64(1), object(2)\n",
      "memory usage: 3.1+ KB\n"
     ]
    }
   ],
   "source": [
    "retail_grocery.info()"
   ]
  },
  {
   "cell_type": "markdown",
   "metadata": {},
   "source": [
    "- Drop column RSGCS_20200814 for **retail_grocery_sept**\n",
    "- Inspect first 5 rows"
   ]
  },
  {
   "cell_type": "code",
   "execution_count": 37,
   "metadata": {},
   "outputs": [
    {
     "data": {
      "text/html": [
       "<div>\n",
       "<style scoped>\n",
       "    .dataframe tbody tr th:only-of-type {\n",
       "        vertical-align: middle;\n",
       "    }\n",
       "\n",
       "    .dataframe tbody tr th {\n",
       "        vertical-align: top;\n",
       "    }\n",
       "\n",
       "    .dataframe thead th {\n",
       "        text-align: right;\n",
       "    }\n",
       "</style>\n",
       "<table border=\"1\" class=\"dataframe\">\n",
       "  <thead>\n",
       "    <tr style=\"text-align: right;\">\n",
       "      <th></th>\n",
       "      <th>DATE</th>\n",
       "      <th>RSGCS_20200916</th>\n",
       "    </tr>\n",
       "  </thead>\n",
       "  <tbody>\n",
       "    <tr>\n",
       "      <th>0</th>\n",
       "      <td>2010-01-01</td>\n",
       "      <td>43028</td>\n",
       "    </tr>\n",
       "    <tr>\n",
       "      <th>1</th>\n",
       "      <td>2010-02-01</td>\n",
       "      <td>43735</td>\n",
       "    </tr>\n",
       "    <tr>\n",
       "      <th>2</th>\n",
       "      <td>2010-03-01</td>\n",
       "      <td>43304</td>\n",
       "    </tr>\n",
       "    <tr>\n",
       "      <th>3</th>\n",
       "      <td>2010-04-01</td>\n",
       "      <td>43186</td>\n",
       "    </tr>\n",
       "    <tr>\n",
       "      <th>4</th>\n",
       "      <td>2010-05-01</td>\n",
       "      <td>43266</td>\n",
       "    </tr>\n",
       "  </tbody>\n",
       "</table>\n",
       "</div>"
      ],
      "text/plain": [
       "         DATE  RSGCS_20200916\n",
       "0  2010-01-01           43028\n",
       "1  2010-02-01           43735\n",
       "2  2010-03-01           43304\n",
       "3  2010-04-01           43186\n",
       "4  2010-05-01           43266"
      ]
     },
     "execution_count": 37,
     "metadata": {},
     "output_type": "execute_result"
    }
   ],
   "source": [
    "retail_grocery_sept = retail_grocery.drop(['RSGCS_20200814'], axis = 1)\n",
    "retail_grocery_sept.head()"
   ]
  },
  {
   "cell_type": "markdown",
   "metadata": {},
   "source": [
    "- Convert 'RSGCS_20200916' to integer\n",
    "- Convert DATE to date time object"
   ]
  },
  {
   "cell_type": "code",
   "execution_count": 38,
   "metadata": {},
   "outputs": [],
   "source": [
    "retail_grocery_sept['RSGCS_20200916'] = retail_grocery_sept['RSGCS_20200916'].astype(int)\n",
    "\n",
    "retail_grocery_sept['DATE'] = pd.to_datetime(retail_grocery_sept['DATE'])"
   ]
  },
  {
   "cell_type": "markdown",
   "metadata": {},
   "source": [
    "- Rename RSGCS_20200916 to Amount\n",
    "- Inspect to confirm data type"
   ]
  },
  {
   "cell_type": "code",
   "execution_count": 39,
   "metadata": {},
   "outputs": [
    {
     "name": "stdout",
     "output_type": "stream",
     "text": [
      "<class 'pandas.core.frame.DataFrame'>\n",
      "RangeIndex: 128 entries, 0 to 127\n",
      "Data columns (total 2 columns):\n",
      " #   Column  Non-Null Count  Dtype         \n",
      "---  ------  --------------  -----         \n",
      " 0   DATE    128 non-null    datetime64[ns]\n",
      " 1   Amount  128 non-null    int32         \n",
      "dtypes: datetime64[ns](1), int32(1)\n",
      "memory usage: 1.6 KB\n"
     ]
    }
   ],
   "source": [
    "retail_grocery_sept.rename(columns = {'RSGCS_20200916':'Amount'}, inplace=True)\n",
    "retail_grocery_sept.info()"
   ]
  },
  {
   "cell_type": "code",
   "execution_count": 40,
   "metadata": {},
   "outputs": [
    {
     "data": {
      "text/html": [
       "<div>\n",
       "<style scoped>\n",
       "    .dataframe tbody tr th:only-of-type {\n",
       "        vertical-align: middle;\n",
       "    }\n",
       "\n",
       "    .dataframe tbody tr th {\n",
       "        vertical-align: top;\n",
       "    }\n",
       "\n",
       "    .dataframe thead th {\n",
       "        text-align: right;\n",
       "    }\n",
       "</style>\n",
       "<table border=\"1\" class=\"dataframe\">\n",
       "  <thead>\n",
       "    <tr style=\"text-align: right;\">\n",
       "      <th></th>\n",
       "      <th>DATE</th>\n",
       "      <th>Amount</th>\n",
       "    </tr>\n",
       "  </thead>\n",
       "  <tbody>\n",
       "    <tr>\n",
       "      <th>0</th>\n",
       "      <td>2010-01-01</td>\n",
       "      <td>43028</td>\n",
       "    </tr>\n",
       "    <tr>\n",
       "      <th>1</th>\n",
       "      <td>2010-02-01</td>\n",
       "      <td>43735</td>\n",
       "    </tr>\n",
       "    <tr>\n",
       "      <th>2</th>\n",
       "      <td>2010-03-01</td>\n",
       "      <td>43304</td>\n",
       "    </tr>\n",
       "    <tr>\n",
       "      <th>3</th>\n",
       "      <td>2010-04-01</td>\n",
       "      <td>43186</td>\n",
       "    </tr>\n",
       "    <tr>\n",
       "      <th>4</th>\n",
       "      <td>2010-05-01</td>\n",
       "      <td>43266</td>\n",
       "    </tr>\n",
       "  </tbody>\n",
       "</table>\n",
       "</div>"
      ],
      "text/plain": [
       "        DATE  Amount\n",
       "0 2010-01-01   43028\n",
       "1 2010-02-01   43735\n",
       "2 2010-03-01   43304\n",
       "3 2010-04-01   43186\n",
       "4 2010-05-01   43266"
      ]
     },
     "execution_count": 40,
     "metadata": {},
     "output_type": "execute_result"
    }
   ],
   "source": [
    "retail_grocery_sept.head()"
   ]
  },
  {
   "cell_type": "markdown",
   "metadata": {},
   "source": [
    "- Line chart of Annual Retail Grocery Sales"
   ]
  },
  {
   "cell_type": "code",
   "execution_count": 41,
   "metadata": {},
   "outputs": [
    {
     "data": {
      "image/png": "[encoded data removed]",
      "text/plain": [
       "<Figure size 1080x360 with 1 Axes>"
      ]
     },
     "metadata": {
      "needs_background": "light"
     },
     "output_type": "display_data"
    },
    {
     "data": {
      "text/plain": [
       "<Figure size 1080x360 with 0 Axes>"
      ]
     },
     "metadata": {},
     "output_type": "display_data"
    }
   ],
   "source": [
    "plt.rcParams['figure.figsize'] = [15, 5]\n",
    "retail_grocery_sept.plot(x='DATE', y='Amount', color='r')\n",
    "plt.xlabel('Years')\n",
    "plt.ylabel('Amount $(Millions)')\n",
    "plt.title('Retail Grocery Sales over 10 Year Period')\n",
    "plt.grid()\n",
    "plt.show()\n",
    "plt.savefig('retail_grocery_line.png')"
   ]
  },
  {
   "cell_type": "markdown",
   "metadata": {},
   "source": [
    "**Retail grocery Y2020**\n",
    "- Extract data for January 2020 to August 2020"
   ]
  },
  {
   "cell_type": "code",
   "execution_count": 42,
   "metadata": {},
   "outputs": [
    {
     "data": {
      "text/html": [
       "<div>\n",
       "<style scoped>\n",
       "    .dataframe tbody tr th:only-of-type {\n",
       "        vertical-align: middle;\n",
       "    }\n",
       "\n",
       "    .dataframe tbody tr th {\n",
       "        vertical-align: top;\n",
       "    }\n",
       "\n",
       "    .dataframe thead th {\n",
       "        text-align: right;\n",
       "    }\n",
       "</style>\n",
       "<table border=\"1\" class=\"dataframe\">\n",
       "  <thead>\n",
       "    <tr style=\"text-align: right;\">\n",
       "      <th></th>\n",
       "      <th>DATE</th>\n",
       "      <th>Amount</th>\n",
       "    </tr>\n",
       "  </thead>\n",
       "  <tbody>\n",
       "    <tr>\n",
       "      <th>120</th>\n",
       "      <td>2020-01-01</td>\n",
       "      <td>57495</td>\n",
       "    </tr>\n",
       "    <tr>\n",
       "      <th>121</th>\n",
       "      <td>2020-02-01</td>\n",
       "      <td>57337</td>\n",
       "    </tr>\n",
       "    <tr>\n",
       "      <th>122</th>\n",
       "      <td>2020-03-01</td>\n",
       "      <td>73714</td>\n",
       "    </tr>\n",
       "    <tr>\n",
       "      <th>123</th>\n",
       "      <td>2020-04-01</td>\n",
       "      <td>63869</td>\n",
       "    </tr>\n",
       "    <tr>\n",
       "      <th>124</th>\n",
       "      <td>2020-05-01</td>\n",
       "      <td>64667</td>\n",
       "    </tr>\n",
       "    <tr>\n",
       "      <th>125</th>\n",
       "      <td>2020-06-01</td>\n",
       "      <td>63454</td>\n",
       "    </tr>\n",
       "    <tr>\n",
       "      <th>126</th>\n",
       "      <td>2020-07-01</td>\n",
       "      <td>63916</td>\n",
       "    </tr>\n",
       "    <tr>\n",
       "      <th>127</th>\n",
       "      <td>2020-08-01</td>\n",
       "      <td>62905</td>\n",
       "    </tr>\n",
       "  </tbody>\n",
       "</table>\n",
       "</div>"
      ],
      "text/plain": [
       "          DATE  Amount\n",
       "120 2020-01-01   57495\n",
       "121 2020-02-01   57337\n",
       "122 2020-03-01   73714\n",
       "123 2020-04-01   63869\n",
       "124 2020-05-01   64667\n",
       "125 2020-06-01   63454\n",
       "126 2020-07-01   63916\n",
       "127 2020-08-01   62905"
      ]
     },
     "execution_count": 42,
     "metadata": {},
     "output_type": "execute_result"
    }
   ],
   "source": [
    "# select 2020 data\n",
    "retail_grocery_y20 = retail_grocery_sept.loc[120:]\n",
    "retail_grocery_y20"
   ]
  },
  {
   "cell_type": "markdown",
   "metadata": {},
   "source": [
    "- Line chart of Retail Grocery in Y2020 (COVID-19)"
   ]
  },
  {
   "cell_type": "code",
   "execution_count": 43,
   "metadata": {},
   "outputs": [
    {
     "data": {
      "image/png": "[encoded data removed]",
      "text/plain": [
       "<Figure size 1080x360 with 1 Axes>"
      ]
     },
     "metadata": {
      "needs_background": "light"
     },
     "output_type": "display_data"
    },
    {
     "data": {
      "text/plain": [
       "<Figure size 1080x360 with 0 Axes>"
      ]
     },
     "metadata": {},
     "output_type": "display_data"
    }
   ],
   "source": [
    "plt.rcParams['figure.figsize'] = [15, 5]\n",
    "retail_grocery_y20.plot(x='DATE', y='Amount', color='r')\n",
    "plt.xlabel('Months')\n",
    "plt.ylabel('Amount $(Millions)')\n",
    "plt.title('Retail Grocery Sales 2020-Jan - 2020-Aug')\n",
    "plt.grid()\n",
    "plt.show()\n",
    "plt.savefig('retail_grocery_line_y20.png')"
   ]
  },
  {
   "cell_type": "markdown",
   "metadata": {},
   "source": [
    "### **Retail Grocery vs COVID-19**"
   ]
  },
  {
   "cell_type": "markdown",
   "metadata": {},
   "source": [
    "- Line chart of Retail Grocery Sales and COVID-19 confirmed cases"
   ]
  },
  {
   "cell_type": "code",
   "execution_count": 44,
   "metadata": {},
   "outputs": [
    {
     "data": {
      "image/png": "[encoded data removed]",
      "text/plain": [
       "<Figure size 1080x360 with 2 Axes>"
      ]
     },
     "metadata": {
      "needs_background": "light"
     },
     "output_type": "display_data"
    },
    {
     "data": {
      "text/plain": [
       "<Figure size 1080x360 with 0 Axes>"
      ]
     },
     "metadata": {},
     "output_type": "display_data"
    }
   ],
   "source": [
    "plt.rcParams['figure.figsize'] = [15, 5]\n",
    "t = ['Jan', 'Feb', 'Mar', 'Apr', 'May', 'Jun', 'Jul', 'Aug']\n",
    "data1 = state\n",
    "data2 =retail_grocery_y20['Amount']\n",
    "\n",
    "fig, ax1 = plt.subplots()\n",
    "\n",
    "color = 'tab:green'\n",
    "ax1.set_xlabel('Months')\n",
    "ax1.set_ylabel('Confirmed Cases', color=color)\n",
    "ax1.plot(t, data1, color=color)\n",
    "ax1.tick_params(axis='y', labelcolor=color)\n",
    "plt.title('Retail Grocery vs COVID-19 Trends')\n",
    "\n",
    "\n",
    "ax2 = ax1.twinx()  \n",
    "\n",
    "color = 'tab:red'\n",
    "ax2.set_ylabel('Retail_Grocery Amount (Millions)', color=color) \n",
    "ax2.plot(t, data2, color=color)\n",
    "ax2.tick_params(axis='y', labelcolor=color)\n",
    "\n",
    "fig.tight_layout() \n",
    "plt.grid()\n",
    "plt.show()\n",
    "plt.savefig('retail_grocery_covid.png')"
   ]
  },
  {
   "cell_type": "markdown",
   "metadata": {},
   "source": [
    "## Section 5: **E-Grocery Sales**"
   ]
  },
  {
   "cell_type": "markdown",
   "metadata": {},
   "source": [
    "**Source:** Brick Meets Clicks (BMC)/Mercatus Grocery Shopping Survey "
   ]
  },
  {
   "cell_type": "markdown",
   "metadata": {},
   "source": [
    "- Create data frame of e-grocery sales data: **e_grocery_2020**"
   ]
  },
  {
   "cell_type": "code",
   "execution_count": 45,
   "metadata": {},
   "outputs": [
    {
     "data": {
      "text/html": [
       "<div>\n",
       "<style scoped>\n",
       "    .dataframe tbody tr th:only-of-type {\n",
       "        vertical-align: middle;\n",
       "    }\n",
       "\n",
       "    .dataframe tbody tr th {\n",
       "        vertical-align: top;\n",
       "    }\n",
       "\n",
       "    .dataframe thead th {\n",
       "        text-align: right;\n",
       "    }\n",
       "</style>\n",
       "<table border=\"1\" class=\"dataframe\">\n",
       "  <thead>\n",
       "    <tr style=\"text-align: right;\">\n",
       "      <th></th>\n",
       "      <th>DATE</th>\n",
       "      <th>Amount</th>\n",
       "    </tr>\n",
       "  </thead>\n",
       "  <tbody>\n",
       "    <tr>\n",
       "      <th>0</th>\n",
       "      <td>Mar</td>\n",
       "      <td>4000</td>\n",
       "    </tr>\n",
       "    <tr>\n",
       "      <th>1</th>\n",
       "      <td>Apr</td>\n",
       "      <td>5300</td>\n",
       "    </tr>\n",
       "    <tr>\n",
       "      <th>2</th>\n",
       "      <td>May</td>\n",
       "      <td>6600</td>\n",
       "    </tr>\n",
       "    <tr>\n",
       "      <th>3</th>\n",
       "      <td>Jun</td>\n",
       "      <td>7200</td>\n",
       "    </tr>\n",
       "    <tr>\n",
       "      <th>4</th>\n",
       "      <td>Aug</td>\n",
       "      <td>5700</td>\n",
       "    </tr>\n",
       "  </tbody>\n",
       "</table>\n",
       "</div>"
      ],
      "text/plain": [
       "  DATE  Amount\n",
       "0  Mar    4000\n",
       "1  Apr    5300\n",
       "2  May    6600\n",
       "3  Jun    7200\n",
       "4  Aug    5700"
      ]
     },
     "execution_count": 45,
     "metadata": {},
     "output_type": "execute_result"
    }
   ],
   "source": [
    "# e-grocery March, April, May, June, and August\n",
    "labels = ['Mar', 'Apr', 'May', 'Jun', 'Aug'] \n",
    "Amount= [4000, 5300, 6600, 7200, 5700]\n",
    "\n",
    "\n",
    "e_grocery_2020 = pd.DataFrame({'DATE': labels,\n",
    "                              'Amount': Amount})\n",
    "e_grocery_2020"
   ]
  },
  {
   "cell_type": "markdown",
   "metadata": {},
   "source": [
    "- Bar Chart of e-grocery_2020"
   ]
  },
  {
   "cell_type": "code",
   "execution_count": 46,
   "metadata": {},
   "outputs": [
    {
     "data": {
      "image/png": "[encoded data removed]",
      "text/plain": [
       "<Figure size 1080x360 with 1 Axes>"
      ]
     },
     "metadata": {
      "needs_background": "light"
     },
     "output_type": "display_data"
    },
    {
     "data": {
      "text/plain": [
       "<Figure size 1080x360 with 0 Axes>"
      ]
     },
     "metadata": {},
     "output_type": "display_data"
    }
   ],
   "source": [
    "plt.rcParams['figure.figsize'] = [15, 5]\n",
    "e_grocery_2020.plot(kind='bar', x='DATE', y='Amount')\n",
    "plt.xlabel('Months')\n",
    "plt.ylabel('Amount $(Millions)')\n",
    "plt.title('e-Grocery Monthly Sales in COVID-19')\n",
    "plt.show()\n",
    "plt.savefig('e_grocery_y20.png')"
   ]
  },
  {
   "cell_type": "markdown",
   "metadata": {},
   "source": [
    "**Retail Grocery Sales vs e-Grocery Sales**"
   ]
  },
  {
   "cell_type": "markdown",
   "metadata": {},
   "source": [
    "**Note:** Comparison is done between the same corresponding month in each data set due to the limitations of obtaining data for the months of January, February and July."
   ]
  },
  {
   "cell_type": "markdown",
   "metadata": {},
   "source": [
    "- Extract data from **retail_grocery_y20** to compare with **e_grocery_2020**\n",
    "- Drop January, February and July"
   ]
  },
  {
   "cell_type": "code",
   "execution_count": 47,
   "metadata": {},
   "outputs": [],
   "source": [
    "# Extract retail grocery data corresponding to the months in e-grocery_2020\n",
    "rem_months = retail_grocery_y20[(retail_grocery_y20['DATE']=='2020-01-01') |\\\n",
    "                                                                  (retail_grocery_y20['DATE']=='2020-02-01') |\\\n",
    "                                                                  (retail_grocery_y20['DATE']=='2020-07-01')].index\n",
    "retail_grocery_covid = retail_grocery_y20.drop(rem_months).reset_index(drop = True)"
   ]
  },
  {
   "cell_type": "markdown",
   "metadata": {},
   "source": [
    "- Drop DATE column\n",
    "- Insert Months column from to have month labels: **retail_covid_months**"
   ]
  },
  {
   "cell_type": "code",
   "execution_count": 48,
   "metadata": {},
   "outputs": [
    {
     "data": {
      "text/html": [
       "<div>\n",
       "<style scoped>\n",
       "    .dataframe tbody tr th:only-of-type {\n",
       "        vertical-align: middle;\n",
       "    }\n",
       "\n",
       "    .dataframe tbody tr th {\n",
       "        vertical-align: top;\n",
       "    }\n",
       "\n",
       "    .dataframe thead th {\n",
       "        text-align: right;\n",
       "    }\n",
       "</style>\n",
       "<table border=\"1\" class=\"dataframe\">\n",
       "  <thead>\n",
       "    <tr style=\"text-align: right;\">\n",
       "      <th></th>\n",
       "      <th>Amount</th>\n",
       "      <th>DATE</th>\n",
       "    </tr>\n",
       "  </thead>\n",
       "  <tbody>\n",
       "    <tr>\n",
       "      <th>0</th>\n",
       "      <td>73714</td>\n",
       "      <td>Mar</td>\n",
       "    </tr>\n",
       "    <tr>\n",
       "      <th>1</th>\n",
       "      <td>63869</td>\n",
       "      <td>Apr</td>\n",
       "    </tr>\n",
       "    <tr>\n",
       "      <th>2</th>\n",
       "      <td>64667</td>\n",
       "      <td>May</td>\n",
       "    </tr>\n",
       "    <tr>\n",
       "      <th>3</th>\n",
       "      <td>63454</td>\n",
       "      <td>Jun</td>\n",
       "    </tr>\n",
       "    <tr>\n",
       "      <th>4</th>\n",
       "      <td>62905</td>\n",
       "      <td>Aug</td>\n",
       "    </tr>\n",
       "  </tbody>\n",
       "</table>\n",
       "</div>"
      ],
      "text/plain": [
       "   Amount DATE\n",
       "0   73714  Mar\n",
       "1   63869  Apr\n",
       "2   64667  May\n",
       "3   63454  Jun\n",
       "4   62905  Aug"
      ]
     },
     "execution_count": 48,
     "metadata": {},
     "output_type": "execute_result"
    }
   ],
   "source": [
    "retail_covid_months = retail_grocery_covid.drop(['DATE'], axis = 1)\n",
    "retail_covid_months['Months'] = [label for label in labels]\n",
    "retail_covid_months.rename(columns={'Months':'DATE'}, inplace = True)\n",
    "retail_covid_months"
   ]
  },
  {
   "cell_type": "markdown",
   "metadata": {},
   "source": [
    "- Merge data frames: **merged_grocery**"
   ]
  },
  {
   "cell_type": "code",
   "execution_count": 49,
   "metadata": {},
   "outputs": [
    {
     "data": {
      "text/html": [
       "<div>\n",
       "<style scoped>\n",
       "    .dataframe tbody tr th:only-of-type {\n",
       "        vertical-align: middle;\n",
       "    }\n",
       "\n",
       "    .dataframe tbody tr th {\n",
       "        vertical-align: top;\n",
       "    }\n",
       "\n",
       "    .dataframe thead th {\n",
       "        text-align: right;\n",
       "    }\n",
       "</style>\n",
       "<table border=\"1\" class=\"dataframe\">\n",
       "  <thead>\n",
       "    <tr style=\"text-align: right;\">\n",
       "      <th></th>\n",
       "      <th>DATE</th>\n",
       "      <th>Amount_e_Grocery</th>\n",
       "      <th>Amount_Retail_Grocery</th>\n",
       "    </tr>\n",
       "  </thead>\n",
       "  <tbody>\n",
       "    <tr>\n",
       "      <th>0</th>\n",
       "      <td>Mar</td>\n",
       "      <td>4000</td>\n",
       "      <td>73714</td>\n",
       "    </tr>\n",
       "    <tr>\n",
       "      <th>1</th>\n",
       "      <td>Apr</td>\n",
       "      <td>5300</td>\n",
       "      <td>63869</td>\n",
       "    </tr>\n",
       "    <tr>\n",
       "      <th>2</th>\n",
       "      <td>May</td>\n",
       "      <td>6600</td>\n",
       "      <td>64667</td>\n",
       "    </tr>\n",
       "    <tr>\n",
       "      <th>3</th>\n",
       "      <td>Jun</td>\n",
       "      <td>7200</td>\n",
       "      <td>63454</td>\n",
       "    </tr>\n",
       "    <tr>\n",
       "      <th>4</th>\n",
       "      <td>Aug</td>\n",
       "      <td>5700</td>\n",
       "      <td>62905</td>\n",
       "    </tr>\n",
       "  </tbody>\n",
       "</table>\n",
       "</div>"
      ],
      "text/plain": [
       "  DATE  Amount_e_Grocery  Amount_Retail_Grocery\n",
       "0  Mar              4000                  73714\n",
       "1  Apr              5300                  63869\n",
       "2  May              6600                  64667\n",
       "3  Jun              7200                  63454\n",
       "4  Aug              5700                  62905"
      ]
     },
     "execution_count": 49,
     "metadata": {},
     "output_type": "execute_result"
    }
   ],
   "source": [
    "merged_grocery = pd.merge(e_grocery_2020, retail_covid_months, on='DATE', suffixes=(\"_e_Grocery\", \"_Retail_Grocery\"))\n",
    "merged_grocery"
   ]
  },
  {
   "cell_type": "markdown",
   "metadata": {},
   "source": [
    "- Plot side-by-side barcharts of **e_grocery** and **retail_grocery**"
   ]
  },
  {
   "cell_type": "code",
   "execution_count": 50,
   "metadata": {},
   "outputs": [
    {
     "data": {
      "image/png": "[encoded data removed]",
      "text/plain": [
       "<Figure size 1080x360 with 1 Axes>"
      ]
     },
     "metadata": {
      "needs_background": "light"
     },
     "output_type": "display_data"
    },
    {
     "data": {
      "text/plain": [
       "<Figure size 1080x360 with 0 Axes>"
      ]
     },
     "metadata": {},
     "output_type": "display_data"
    }
   ],
   "source": [
    "plt.rcParams['figure.figsize'] = [15, 5]\n",
    "ax = merged_grocery.plot.bar()\n",
    "plt.xticks(range(len(merged_grocery)), ['Mar', 'Apr', 'May', 'Jun', 'Aug'])\n",
    "plt.ylabel('Amount $(Millions)')\n",
    "plt.xlabel('Months')\n",
    "plt.title('Monthly Sales of Retail Grocery vs e-Grocery in COVID-19')\n",
    "plt.grid()\n",
    "plt.show()\n",
    "plt.savefig('retail_e_grocery.png')"
   ]
  },
  {
   "cell_type": "markdown",
   "metadata": {},
   "source": [
    "**E-Grocery vs Retail Grocery in Covid-19**"
   ]
  },
  {
   "cell_type": "markdown",
   "metadata": {},
   "source": [
    "- Create line charts to compare difference in trends between e_grocery and retail grocery"
   ]
  },
  {
   "cell_type": "code",
   "execution_count": 51,
   "metadata": {},
   "outputs": [
    {
     "data": {
      "image/png": "[encoded data removed]",
      "text/plain": [
       "<Figure size 1080x360 with 2 Axes>"
      ]
     },
     "metadata": {
      "needs_background": "light"
     },
     "output_type": "display_data"
    },
    {
     "data": {
      "text/plain": [
       "<Figure size 1080x360 with 0 Axes>"
      ]
     },
     "metadata": {},
     "output_type": "display_data"
    }
   ],
   "source": [
    "plt.rcParams['figure.figsize'] = [15, 5]\n",
    "t = ['Mar', 'Apr', 'May', 'Jun', 'Aug']\n",
    "data1 = retail_covid_months['Amount']\n",
    "data2 = e_grocery_2020['Amount']\n",
    "labels = ['Mar', 'Apr', 'May', 'Jun', 'Aug']\n",
    "fig, ax1 = plt.subplots()\n",
    "\n",
    "color = 'tab:red'\n",
    "ax1.set_xlabel('Months')\n",
    "ax1.set_ylabel('Retail Grocery Amount $(Millions)', color=color)\n",
    "ax1.plot(t, data1, color=color)\n",
    "ax1.tick_params(axis='y', labelcolor=color)\n",
    "\n",
    "\n",
    "\n",
    "ax2 = ax1.twinx()  \n",
    "\n",
    "color = 'tab:blue'\n",
    "ax2.set_ylabel('e_Grocery Amount $(Millions)', color=color) \n",
    "ax2.plot(t, data2, color=color)\n",
    "ax2.tick_params(axis='y', labelcolor=color)\n",
    "\n",
    "plt.title('Sales Trend of E-Grocery vs Retail Grocery Y2020')\n",
    "fig.tight_layout() \n",
    "plt.grid()\n",
    "plt.show()\n",
    "plt.savefig('retail_e_grocery_line.png')"
   ]
  },
  {
   "cell_type": "markdown",
   "metadata": {},
   "source": [
    "**E-Grocery vs COVID-19**"
   ]
  },
  {
   "cell_type": "markdown",
   "metadata": {},
   "source": [
    "- Extract covid-19 months corresponding to months in e_grocery: **state_for_e_grocery**"
   ]
  },
  {
   "cell_type": "code",
   "execution_count": 52,
   "metadata": {},
   "outputs": [
    {
     "data": {
      "text/plain": [
       "Mar     192023\n",
       "Apr     884275\n",
       "May     719593\n",
       "Jun     836056\n",
       "Aug    1466741\n",
       "dtype: int64"
      ]
     },
     "execution_count": 52,
     "metadata": {},
     "output_type": "execute_result"
    }
   ],
   "source": [
    "state_for_egrocery = state.drop(['Jan', 'Feb', 'Jul'], axis = 0)\n",
    "state_for_egrocery"
   ]
  },
  {
   "cell_type": "markdown",
   "metadata": {},
   "source": [
    "- Create line charts to compare difference in trends between e_grocery and covid-19 cases"
   ]
  },
  {
   "cell_type": "code",
   "execution_count": 53,
   "metadata": {},
   "outputs": [
    {
     "data": {
      "image/png": "[encoded data removed]",
      "text/plain": [
       "<Figure size 1080x360 with 2 Axes>"
      ]
     },
     "metadata": {
      "needs_background": "light"
     },
     "output_type": "display_data"
    },
    {
     "data": {
      "text/plain": [
       "<Figure size 1080x360 with 0 Axes>"
      ]
     },
     "metadata": {},
     "output_type": "display_data"
    }
   ],
   "source": [
    "plt.rcParams['figure.figsize'] = [15, 5]\n",
    "t = ['Mar', 'Apr', 'May', 'Jun', 'Aug']\n",
    "data1 = state_for_egrocery\n",
    "data2 = e_grocery_2020['Amount']\n",
    "labels = ['Mar', 'Apr', 'May', 'Jun', 'Aug']\n",
    "fig, ax1 = plt.subplots()\n",
    "\n",
    "color = 'tab:red'\n",
    "ax1.set_xlabel('Months')\n",
    "ax1.set_ylabel('Confirmed Cases', color=color)\n",
    "ax1.plot(t, data1, color=color)\n",
    "ax1.tick_params(axis='y', labelcolor=color)\n",
    "\n",
    "\n",
    "\n",
    "ax2 = ax1.twinx()  \n",
    "\n",
    "color = 'tab:blue'\n",
    "ax2.set_ylabel('e_Grocery Amount $(Millions)', color=color) \n",
    "ax2.plot(t, data2, color=color)\n",
    "ax2.tick_params(axis='y', labelcolor=color)\n",
    "\n",
    "plt.title('E-Grocery vs COVID-19')\n",
    "fig.tight_layout() \n",
    "plt.grid()\n",
    "plt.show()\n",
    "plt.savefig('e_grocery_covid_line.png')"
   ]
  },
  {
   "cell_type": "code",
   "execution_count": null,
   "metadata": {},
   "outputs": [],
   "source": []
  }
 ],
 "metadata": {
  "kernelspec": {
   "display_name": "Python 3",
   "language": "python",
   "name": "python3"
  },
  "language_info": {
   "codemirror_mode": {
    "name": "ipython",
    "version": 3
   },
   "file_extension": ".py",
   "mimetype": "text/x-python",
   "name": "python",
   "nbconvert_exporter": "python",
   "pygments_lexer": "ipython3",
   "version": "3.6.10"
  }
 },
 "nbformat": 4,
 "nbformat_minor": 4
}
